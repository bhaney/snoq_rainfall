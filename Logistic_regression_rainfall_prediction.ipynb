{
 "cells": [
  {
   "cell_type": "code",
   "execution_count": 1,
   "metadata": {},
   "outputs": [
    {
     "name": "stdout",
     "output_type": "stream",
     "text": [
      "(36, 366)\n"
     ]
    },
    {
     "data": {
      "text/html": [
       "<div>\n",
       "<style>\n",
       "    .dataframe thead tr:only-child th {\n",
       "        text-align: right;\n",
       "    }\n",
       "\n",
       "    .dataframe thead th {\n",
       "        text-align: left;\n",
       "    }\n",
       "\n",
       "    .dataframe tbody tr th {\n",
       "        vertical-align: top;\n",
       "    }\n",
       "</style>\n",
       "<table border=\"1\" class=\"dataframe\">\n",
       "  <thead>\n",
       "    <tr style=\"text-align: right;\">\n",
       "      <th></th>\n",
       "      <th>0</th>\n",
       "      <th>1</th>\n",
       "      <th>2</th>\n",
       "      <th>3</th>\n",
       "      <th>4</th>\n",
       "      <th>5</th>\n",
       "      <th>6</th>\n",
       "      <th>7</th>\n",
       "      <th>8</th>\n",
       "      <th>9</th>\n",
       "      <th>...</th>\n",
       "      <th>356</th>\n",
       "      <th>357</th>\n",
       "      <th>358</th>\n",
       "      <th>359</th>\n",
       "      <th>360</th>\n",
       "      <th>361</th>\n",
       "      <th>362</th>\n",
       "      <th>363</th>\n",
       "      <th>364</th>\n",
       "      <th>365</th>\n",
       "    </tr>\n",
       "  </thead>\n",
       "  <tbody>\n",
       "    <tr>\n",
       "      <th>0</th>\n",
       "      <td>136</td>\n",
       "      <td>100</td>\n",
       "      <td>16</td>\n",
       "      <td>80</td>\n",
       "      <td>10</td>\n",
       "      <td>66</td>\n",
       "      <td>88</td>\n",
       "      <td>38</td>\n",
       "      <td>1</td>\n",
       "      <td>87</td>\n",
       "      <td>...</td>\n",
       "      <td>0</td>\n",
       "      <td>0</td>\n",
       "      <td>0</td>\n",
       "      <td>0</td>\n",
       "      <td>0</td>\n",
       "      <td>0</td>\n",
       "      <td>0</td>\n",
       "      <td>49</td>\n",
       "      <td>114</td>\n",
       "      <td>17.0</td>\n",
       "    </tr>\n",
       "    <tr>\n",
       "      <th>1</th>\n",
       "      <td>17</td>\n",
       "      <td>14</td>\n",
       "      <td>0</td>\n",
       "      <td>0</td>\n",
       "      <td>1</td>\n",
       "      <td>11</td>\n",
       "      <td>90</td>\n",
       "      <td>6</td>\n",
       "      <td>0</td>\n",
       "      <td>0</td>\n",
       "      <td>...</td>\n",
       "      <td>107</td>\n",
       "      <td>29</td>\n",
       "      <td>97</td>\n",
       "      <td>47</td>\n",
       "      <td>245</td>\n",
       "      <td>121</td>\n",
       "      <td>72</td>\n",
       "      <td>27</td>\n",
       "      <td>41</td>\n",
       "      <td>NaN</td>\n",
       "    </tr>\n",
       "    <tr>\n",
       "      <th>2</th>\n",
       "      <td>1</td>\n",
       "      <td>35</td>\n",
       "      <td>13</td>\n",
       "      <td>13</td>\n",
       "      <td>18</td>\n",
       "      <td>122</td>\n",
       "      <td>22</td>\n",
       "      <td>25</td>\n",
       "      <td>8</td>\n",
       "      <td>48</td>\n",
       "      <td>...</td>\n",
       "      <td>85</td>\n",
       "      <td>43</td>\n",
       "      <td>20</td>\n",
       "      <td>4</td>\n",
       "      <td>40</td>\n",
       "      <td>10</td>\n",
       "      <td>5</td>\n",
       "      <td>93</td>\n",
       "      <td>23</td>\n",
       "      <td>NaN</td>\n",
       "    </tr>\n",
       "    <tr>\n",
       "      <th>3</th>\n",
       "      <td>34</td>\n",
       "      <td>183</td>\n",
       "      <td>11</td>\n",
       "      <td>20</td>\n",
       "      <td>11</td>\n",
       "      <td>0</td>\n",
       "      <td>9</td>\n",
       "      <td>1</td>\n",
       "      <td>0</td>\n",
       "      <td>3</td>\n",
       "      <td>...</td>\n",
       "      <td>0</td>\n",
       "      <td>0</td>\n",
       "      <td>0</td>\n",
       "      <td>0</td>\n",
       "      <td>4</td>\n",
       "      <td>19</td>\n",
       "      <td>37</td>\n",
       "      <td>19</td>\n",
       "      <td>0</td>\n",
       "      <td>NaN</td>\n",
       "    </tr>\n",
       "    <tr>\n",
       "      <th>4</th>\n",
       "      <td>0</td>\n",
       "      <td>0</td>\n",
       "      <td>2</td>\n",
       "      <td>1</td>\n",
       "      <td>2</td>\n",
       "      <td>7</td>\n",
       "      <td>11</td>\n",
       "      <td>2</td>\n",
       "      <td>37</td>\n",
       "      <td>21</td>\n",
       "      <td>...</td>\n",
       "      <td>10</td>\n",
       "      <td>5</td>\n",
       "      <td>0</td>\n",
       "      <td>0</td>\n",
       "      <td>0</td>\n",
       "      <td>0</td>\n",
       "      <td>43</td>\n",
       "      <td>35</td>\n",
       "      <td>15</td>\n",
       "      <td>13.0</td>\n",
       "    </tr>\n",
       "    <tr>\n",
       "      <th>5</th>\n",
       "      <td>2</td>\n",
       "      <td>124</td>\n",
       "      <td>51</td>\n",
       "      <td>2</td>\n",
       "      <td>0</td>\n",
       "      <td>41</td>\n",
       "      <td>113</td>\n",
       "      <td>177</td>\n",
       "      <td>143</td>\n",
       "      <td>5</td>\n",
       "      <td>...</td>\n",
       "      <td>15</td>\n",
       "      <td>0</td>\n",
       "      <td>0</td>\n",
       "      <td>19</td>\n",
       "      <td>2</td>\n",
       "      <td>53</td>\n",
       "      <td>3</td>\n",
       "      <td>7</td>\n",
       "      <td>17</td>\n",
       "      <td>NaN</td>\n",
       "    </tr>\n",
       "    <tr>\n",
       "      <th>6</th>\n",
       "      <td>59</td>\n",
       "      <td>48</td>\n",
       "      <td>44</td>\n",
       "      <td>121</td>\n",
       "      <td>130</td>\n",
       "      <td>90</td>\n",
       "      <td>42</td>\n",
       "      <td>33</td>\n",
       "      <td>13</td>\n",
       "      <td>0</td>\n",
       "      <td>...</td>\n",
       "      <td>63</td>\n",
       "      <td>51</td>\n",
       "      <td>22</td>\n",
       "      <td>1</td>\n",
       "      <td>0</td>\n",
       "      <td>26</td>\n",
       "      <td>61</td>\n",
       "      <td>109</td>\n",
       "      <td>26</td>\n",
       "      <td>NaN</td>\n",
       "    </tr>\n",
       "    <tr>\n",
       "      <th>7</th>\n",
       "      <td>32</td>\n",
       "      <td>36</td>\n",
       "      <td>0</td>\n",
       "      <td>4</td>\n",
       "      <td>16</td>\n",
       "      <td>0</td>\n",
       "      <td>0</td>\n",
       "      <td>0</td>\n",
       "      <td>0</td>\n",
       "      <td>0</td>\n",
       "      <td>...</td>\n",
       "      <td>27</td>\n",
       "      <td>10</td>\n",
       "      <td>12</td>\n",
       "      <td>72</td>\n",
       "      <td>26</td>\n",
       "      <td>0</td>\n",
       "      <td>0</td>\n",
       "      <td>0</td>\n",
       "      <td>0</td>\n",
       "      <td>NaN</td>\n",
       "    </tr>\n",
       "    <tr>\n",
       "      <th>8</th>\n",
       "      <td>48</td>\n",
       "      <td>52</td>\n",
       "      <td>141</td>\n",
       "      <td>106</td>\n",
       "      <td>50</td>\n",
       "      <td>74</td>\n",
       "      <td>51</td>\n",
       "      <td>8</td>\n",
       "      <td>10</td>\n",
       "      <td>1</td>\n",
       "      <td>...</td>\n",
       "      <td>12</td>\n",
       "      <td>33</td>\n",
       "      <td>0</td>\n",
       "      <td>0</td>\n",
       "      <td>0</td>\n",
       "      <td>0</td>\n",
       "      <td>0</td>\n",
       "      <td>0</td>\n",
       "      <td>5</td>\n",
       "      <td>14.0</td>\n",
       "    </tr>\n",
       "    <tr>\n",
       "      <th>9</th>\n",
       "      <td>43</td>\n",
       "      <td>12</td>\n",
       "      <td>9</td>\n",
       "      <td>1</td>\n",
       "      <td>0</td>\n",
       "      <td>0</td>\n",
       "      <td>68</td>\n",
       "      <td>34</td>\n",
       "      <td>0</td>\n",
       "      <td>8</td>\n",
       "      <td>...</td>\n",
       "      <td>72</td>\n",
       "      <td>46</td>\n",
       "      <td>130</td>\n",
       "      <td>35</td>\n",
       "      <td>65</td>\n",
       "      <td>118</td>\n",
       "      <td>21</td>\n",
       "      <td>5</td>\n",
       "      <td>0</td>\n",
       "      <td>NaN</td>\n",
       "    </tr>\n",
       "  </tbody>\n",
       "</table>\n",
       "<p>10 rows × 366 columns</p>\n",
       "</div>"
      ],
      "text/plain": [
       "   0    1    2    3    4    5    6    7    8    9    ...   356  357  358  359  \\\n",
       "0  136  100   16   80   10   66   88   38    1   87  ...     0    0    0    0   \n",
       "1   17   14    0    0    1   11   90    6    0    0  ...   107   29   97   47   \n",
       "2    1   35   13   13   18  122   22   25    8   48  ...    85   43   20    4   \n",
       "3   34  183   11   20   11    0    9    1    0    3  ...     0    0    0    0   \n",
       "4    0    0    2    1    2    7   11    2   37   21  ...    10    5    0    0   \n",
       "5    2  124   51    2    0   41  113  177  143    5  ...    15    0    0   19   \n",
       "6   59   48   44  121  130   90   42   33   13    0  ...    63   51   22    1   \n",
       "7   32   36    0    4   16    0    0    0    0    0  ...    27   10   12   72   \n",
       "8   48   52  141  106   50   74   51    8   10    1  ...    12   33    0    0   \n",
       "9   43   12    9    1    0    0   68   34    0    8  ...    72   46  130   35   \n",
       "\n",
       "   360  361  362  363  364   365  \n",
       "0    0    0    0   49  114  17.0  \n",
       "1  245  121   72   27   41   NaN  \n",
       "2   40   10    5   93   23   NaN  \n",
       "3    4   19   37   19    0   NaN  \n",
       "4    0    0   43   35   15  13.0  \n",
       "5    2   53    3    7   17   NaN  \n",
       "6    0   26   61  109   26   NaN  \n",
       "7   26    0    0    0    0   NaN  \n",
       "8    0    0    0    0    5  14.0  \n",
       "9   65  118   21    5    0   NaN  \n",
       "\n",
       "[10 rows x 366 columns]"
      ]
     },
     "execution_count": 1,
     "metadata": {},
     "output_type": "execute_result"
    }
   ],
   "source": [
    "import pandas as pd\n",
    "import numpy as np\n",
    "snoqualmie = pd.read_csv('data/set1.txt', skiprows=1, header=None, delim_whitespace=True)\n",
    "#rows are 36 years between 1948-1983 and columns are 366 days accounting for leap years\n",
    "print(snoqualmie.shape)\n",
    "snoqualmie.head(10)"
   ]
  },
  {
   "cell_type": "code",
   "execution_count": 2,
   "metadata": {},
   "outputs": [],
   "source": [
    "import numpy as np\n",
    "from iminuit import Minuit\n"
   ]
  },
  {
   "cell_type": "code",
   "execution_count": 3,
   "metadata": {},
   "outputs": [
    {
     "name": "stdout",
     "output_type": "stream",
     "text": [
      "13148\n"
     ]
    },
    {
     "data": {
      "text/html": [
       "<div>\n",
       "<style>\n",
       "    .dataframe thead tr:only-child th {\n",
       "        text-align: right;\n",
       "    }\n",
       "\n",
       "    .dataframe thead th {\n",
       "        text-align: left;\n",
       "    }\n",
       "\n",
       "    .dataframe tbody tr th {\n",
       "        vertical-align: top;\n",
       "    }\n",
       "</style>\n",
       "<table border=\"1\" class=\"dataframe\">\n",
       "  <thead>\n",
       "    <tr style=\"text-align: right;\">\n",
       "      <th></th>\n",
       "      <th>day</th>\n",
       "      <th>rained today?</th>\n",
       "      <th>rained tomorrow?</th>\n",
       "      <th>rainfall today</th>\n",
       "      <th>rainfall tomorrow</th>\n",
       "      <th>year</th>\n",
       "    </tr>\n",
       "  </thead>\n",
       "  <tbody>\n",
       "    <tr>\n",
       "      <th>13133</th>\n",
       "      <td>350</td>\n",
       "      <td>False</td>\n",
       "      <td>True</td>\n",
       "      <td>0.0</td>\n",
       "      <td>64.0</td>\n",
       "      <td>1983</td>\n",
       "    </tr>\n",
       "    <tr>\n",
       "      <th>13134</th>\n",
       "      <td>351</td>\n",
       "      <td>True</td>\n",
       "      <td>True</td>\n",
       "      <td>64.0</td>\n",
       "      <td>38.0</td>\n",
       "      <td>1983</td>\n",
       "    </tr>\n",
       "    <tr>\n",
       "      <th>13135</th>\n",
       "      <td>352</td>\n",
       "      <td>True</td>\n",
       "      <td>True</td>\n",
       "      <td>38.0</td>\n",
       "      <td>124.0</td>\n",
       "      <td>1983</td>\n",
       "    </tr>\n",
       "    <tr>\n",
       "      <th>13136</th>\n",
       "      <td>353</td>\n",
       "      <td>True</td>\n",
       "      <td>True</td>\n",
       "      <td>124.0</td>\n",
       "      <td>27.0</td>\n",
       "      <td>1983</td>\n",
       "    </tr>\n",
       "    <tr>\n",
       "      <th>13137</th>\n",
       "      <td>354</td>\n",
       "      <td>True</td>\n",
       "      <td>False</td>\n",
       "      <td>27.0</td>\n",
       "      <td>0.0</td>\n",
       "      <td>1983</td>\n",
       "    </tr>\n",
       "    <tr>\n",
       "      <th>13138</th>\n",
       "      <td>355</td>\n",
       "      <td>False</td>\n",
       "      <td>True</td>\n",
       "      <td>0.0</td>\n",
       "      <td>78.0</td>\n",
       "      <td>1983</td>\n",
       "    </tr>\n",
       "    <tr>\n",
       "      <th>13139</th>\n",
       "      <td>356</td>\n",
       "      <td>True</td>\n",
       "      <td>True</td>\n",
       "      <td>78.0</td>\n",
       "      <td>30.0</td>\n",
       "      <td>1983</td>\n",
       "    </tr>\n",
       "    <tr>\n",
       "      <th>13140</th>\n",
       "      <td>357</td>\n",
       "      <td>True</td>\n",
       "      <td>True</td>\n",
       "      <td>30.0</td>\n",
       "      <td>15.0</td>\n",
       "      <td>1983</td>\n",
       "    </tr>\n",
       "    <tr>\n",
       "      <th>13141</th>\n",
       "      <td>358</td>\n",
       "      <td>True</td>\n",
       "      <td>False</td>\n",
       "      <td>15.0</td>\n",
       "      <td>0.0</td>\n",
       "      <td>1983</td>\n",
       "    </tr>\n",
       "    <tr>\n",
       "      <th>13142</th>\n",
       "      <td>359</td>\n",
       "      <td>False</td>\n",
       "      <td>False</td>\n",
       "      <td>0.0</td>\n",
       "      <td>0.0</td>\n",
       "      <td>1983</td>\n",
       "    </tr>\n",
       "    <tr>\n",
       "      <th>13143</th>\n",
       "      <td>360</td>\n",
       "      <td>False</td>\n",
       "      <td>True</td>\n",
       "      <td>0.0</td>\n",
       "      <td>2.0</td>\n",
       "      <td>1983</td>\n",
       "    </tr>\n",
       "    <tr>\n",
       "      <th>13144</th>\n",
       "      <td>361</td>\n",
       "      <td>True</td>\n",
       "      <td>True</td>\n",
       "      <td>2.0</td>\n",
       "      <td>8.0</td>\n",
       "      <td>1983</td>\n",
       "    </tr>\n",
       "    <tr>\n",
       "      <th>13145</th>\n",
       "      <td>362</td>\n",
       "      <td>True</td>\n",
       "      <td>False</td>\n",
       "      <td>8.0</td>\n",
       "      <td>0.0</td>\n",
       "      <td>1983</td>\n",
       "    </tr>\n",
       "    <tr>\n",
       "      <th>13146</th>\n",
       "      <td>363</td>\n",
       "      <td>False</td>\n",
       "      <td>False</td>\n",
       "      <td>0.0</td>\n",
       "      <td>0.0</td>\n",
       "      <td>1983</td>\n",
       "    </tr>\n",
       "    <tr>\n",
       "      <th>13147</th>\n",
       "      <td>364</td>\n",
       "      <td>False</td>\n",
       "      <td>False</td>\n",
       "      <td>0.0</td>\n",
       "      <td>0.0</td>\n",
       "      <td>1983</td>\n",
       "    </tr>\n",
       "  </tbody>\n",
       "</table>\n",
       "</div>"
      ],
      "text/plain": [
       "       day  rained today?  rained tomorrow?  rainfall today  \\\n",
       "13133  350          False              True             0.0   \n",
       "13134  351           True              True            64.0   \n",
       "13135  352           True              True            38.0   \n",
       "13136  353           True              True           124.0   \n",
       "13137  354           True             False            27.0   \n",
       "13138  355          False              True             0.0   \n",
       "13139  356           True              True            78.0   \n",
       "13140  357           True              True            30.0   \n",
       "13141  358           True             False            15.0   \n",
       "13142  359          False             False             0.0   \n",
       "13143  360          False              True             0.0   \n",
       "13144  361           True              True             2.0   \n",
       "13145  362           True             False             8.0   \n",
       "13146  363          False             False             0.0   \n",
       "13147  364          False             False             0.0   \n",
       "\n",
       "       rainfall tomorrow  year  \n",
       "13133               64.0  1983  \n",
       "13134               38.0  1983  \n",
       "13135              124.0  1983  \n",
       "13136               27.0  1983  \n",
       "13137                0.0  1983  \n",
       "13138               78.0  1983  \n",
       "13139               30.0  1983  \n",
       "13140               15.0  1983  \n",
       "13141                0.0  1983  \n",
       "13142                0.0  1983  \n",
       "13143                2.0  1983  \n",
       "13144                8.0  1983  \n",
       "13145                0.0  1983  \n",
       "13146                0.0  1983  \n",
       "13147                0.0  1983  "
      ]
     },
     "execution_count": 3,
     "metadata": {},
     "output_type": "execute_result"
    }
   ],
   "source": [
    "# preprocess the data...\n",
    "# columns will be year, day, rainfall today, rainfall tomorrow\n",
    "from itertools import cycle\n",
    "rainfall_sequence = snoqualmie.values.flatten()\n",
    "rainfall_sequence = rainfall_sequence[~np.isnan(rainfall_sequence)]\n",
    "\n",
    "snoq = pd.DataFrame()\n",
    "years = range(1948,1984)\n",
    "days_per_year = cycle((366, 365, 365, 365))\n",
    "for year_i, num_days in zip(range(len(years)), days_per_year):\n",
    "    if years[year_i] == years[-1]: #last year in data\n",
    "        year_vec = [int(years[year_i])]*(num_days-1)\n",
    "        day_vec = range(1,num_days)\n",
    "        today_rainfall = np.array(rainfall_sequence[year_i*num_days:(year_i+1)*num_days-1])\n",
    "        tomorrow_rainfall = np.array(rainfall_sequence[year_i*num_days+1:(year_i+1)*num_days])\n",
    "    else:\n",
    "        year_vec = [int(years[year_i])]*num_days\n",
    "        day_vec = range(1,num_days+1)\n",
    "        today_rainfall = rainfall_sequence[year_i*num_days:(year_i+1)*num_days]\n",
    "        tomorrow_rainfall = rainfall_sequence[year_i*num_days+1:(year_i+1)*num_days+1]\n",
    "    rained_today = today_rainfall > 0\n",
    "    rained_tomorrow = tomorrow_rainfall > 0\n",
    "    yf = pd.DataFrame({'year': year_vec, 'day': day_vec, 'rained today?': rained_today, 'rained tomorrow?': rained_tomorrow,\n",
    "                       'rainfall today': today_rainfall,'rainfall tomorrow':tomorrow_rainfall })\n",
    "    snoq = pd.concat([snoq, yf], axis=0, ignore_index=True)\n",
    "\n",
    "print(snoq.shape[0])\n",
    "snoq.tail(15)"
   ]
  },
  {
   "cell_type": "code",
   "execution_count": 4,
   "metadata": {},
   "outputs": [],
   "source": [
    "import matplotlib.pyplot as plt\n",
    "%matplotlib inline"
   ]
  },
  {
   "cell_type": "code",
   "execution_count": 5,
   "metadata": {},
   "outputs": [
    {
     "data": {
      "image/png": "[encoded data removed]",
      "text/plain": [
       "<matplotlib.figure.Figure at 0x116bd06a0>"
      ]
     },
     "metadata": {
      "needs_background": "light"
     },
     "output_type": "display_data"
    }
   ],
   "source": [
    "plt.close('all')\n",
    "snoq['rainfall today'].plot.hist(bins=50, rwidth=0.9, grid=True, figsize=(12,8));\n",
    "plt.title('Rainfall in Snoqualmie, WA')\n",
    "plt.xlabel('Precipitation (1/100 in.)')\n",
    "plt.ylabel('Counts')\n",
    "plt.grid(axis='y', alpha=0.75)"
   ]
  },
  {
   "cell_type": "code",
   "execution_count": 6,
   "metadata": {
    "scrolled": true
   },
   "outputs": [
    {
     "data": {
      "image/png": "[encoded data removed]",
      "text/plain": [
       "<matplotlib.figure.Figure at 0x116f8d3c8>"
      ]
     },
     "metadata": {
      "needs_background": "light"
     },
     "output_type": "display_data"
    }
   ],
   "source": [
    "plt.close('all')\n",
    "snoq.plot.scatter(x='rainfall today', y='rainfall tomorrow', s=1, grid=True, figsize=(12,8));\n",
    "plt.title('Rainfall in Snoqualmie, WA')\n",
    "plt.xlabel('Rainfall today (1/100 in.)')\n",
    "plt.ylabel('Rainfall tomorrow (1/100 in.)')\n",
    "plt.grid(axis='y', alpha=0.75)"
   ]
  },
  {
   "cell_type": "code",
   "execution_count": 7,
   "metadata": {},
   "outputs": [
    {
     "name": "stdout",
     "output_type": "stream",
     "text": [
      "[[  1. 136.]\n",
      " [  1. 100.]\n",
      " [  1.  16.]\n",
      " [  1.  80.]\n",
      " [  1.  10.]]\n"
     ]
    }
   ],
   "source": [
    "# the data to use in the fit\n",
    "X1 = snoq['rainfall today'].values.reshape(-1,1)\n",
    "# add a column of ones at the beginning for the bias term\n",
    "ones = np.ones(X1.shape[0]).reshape(-1,1)\n",
    "X = np.concatenate((ones,X1), axis=1) \n",
    "print(X[:5])\n",
    "n_features = X.shape[1]\n",
    "# The thing we want to predict\n",
    "Y = snoq['rained tomorrow?'].values.astype(int).reshape(-1,1)"
   ]
  },
  {
   "cell_type": "markdown",
   "metadata": {},
   "source": [
    "## Description\n",
    "\n",
    "The $Y$ variable is binary, either zero or one. The $X$ is a range of real numbers. We want to predict $Pr(Y=1|X=x)$. $Pr(Y=0|X=x)$ will just be $1 - Pr(Y=1|X=x)$. The optimal solution at every point x is the expectation value of the variable Y, i.e. $E[Y|X=x]$.\n",
    "\n",
    "To predict a probability distribution, the likelihood of the probability distribution (which is defined on the sample) should be maximized, or equivalently the minimum of the negative 2 log likelihood. \n",
    "\n",
    "$$L = \\prod_i P(y_i; x_i, \\theta) \\qquad -2 \\text{log}[L] = -2 \\sum_i \\text{log}[P(y_i; x_i, \\theta)]$$\n",
    "\n",
    "Since Y is only 1 or 0, we can re-write $P(y_i; x_i, \\theta) = P(x_i, \\theta)^{y_i}(1 - P(x_i, \\theta))^{1-y_i}$\n",
    "\n",
    "If our model is logistic regression for the binary Y, we want want the fit to be linear with respect to the log odds, i.e. $ \\frac{p(x)}{1-p(x)} = \\theta \\cdot X$, which rewritten to be plugged into the likelihood would be \n",
    "\n",
    "$$ P(x_i, \\theta) = \\frac{1}{1 + e^{-(\\theta \\cdot X)}}$$ \n",
    "\n",
    "Thus making the -2 log likelihood is \n",
    "\n",
    "$$ -2 \\text{log}[L] = -2 \\sum_i -\\text{log}(1+e^{\\theta \\cdot x_i}) + y_i*(\\theta \\cdot x_i)$$"
   ]
  },
  {
   "cell_type": "code",
   "execution_count": 8,
   "metadata": {},
   "outputs": [],
   "source": [
    "# define the loss function to minimize. We are using a linear logistic model\n",
    "def neg2_log_likelihood(X,Y):\n",
    "    assert(len(X.shape)==2),\"must be 2D array with measurements in rows and features in cols\"\n",
    "    assert(X.shape[0] == Y.size),\"x size is {}, y size is {}. must be the same\".format(X.shape[0],y.size)\n",
    "    def f(theta):\n",
    "        logl = 0\n",
    "        linear = np.dot(X,theta.reshape(-1,1))\n",
    "        logl = sum(-1.0*np.log(1+np.exp(linear)) + Y*(linear))\n",
    "        return -2.0*logl\n",
    "    return f\n",
    "\n",
    "#the long way, not using matrix multiplication\n",
    "#for (xi,yi) in zip(X,Y):\n",
    "#    logl += -1.0*np.log(1+np.exp(np.dot(np.transpose(theta),xi))) + yi*(np.dot(np.transpose(theta),xi))"
   ]
  },
  {
   "cell_type": "code",
   "execution_count": 9,
   "metadata": {},
   "outputs": [],
   "source": [
    "# Given a list of linear parameters (intercept and slopes), gives the regression curve\n",
    "# Also can gives the confidence interval functions by providing the covariance matrix of the predictions\n",
    "# Assumes a gaussian when creating the confidence interval\n",
    "def logit_regression(theta,X=None,cov_mat=None):\n",
    "    n_features = len(theta)\n",
    "    cov_mat = np.eye(n_features) if cov_mat is None else cov_mat\n",
    "    def f(x, cl=0):\n",
    "        center = np.dot(x,theta.reshape(-1,1))\n",
    "        #error propagation\n",
    "        if X is None:\n",
    "            variances = np.zeros(center.shape)\n",
    "        else:\n",
    "            variances = np.sum(np.dot(x,np.dot(cov_mat,np.transpose(x)))*np.eye(x.shape[0]), axis=1)\n",
    "        std_err = (cl*np.sqrt(variances)).reshape(-1,1)\n",
    "        #result\n",
    "        y = 1./(1.+np.exp(-(center+std_err)))\n",
    "        return y\n",
    "    return f\n",
    "\n",
    "def line_regression(theta,X=None,cov_mat=None):\n",
    "    n_features = len(theta)\n",
    "    cov_mat = np.eye(n_features) if cov_mat is None else cov_mat\n",
    "    def f(x, cl=0):\n",
    "        center = np.dot(x,theta.reshape(-1,1))\n",
    "        #error propagation\n",
    "        if X is None:\n",
    "            variances = np.zeros(center.shape)\n",
    "        else:\n",
    "            variances = np.sum(np.dot(x,np.dot(cov_mat,np.transpose(x)))*np.eye(x.shape[0]), axis=1)        \n",
    "            std_err = (cl*np.sqrt(variances)).reshape(-1,1)\n",
    "        #result\n",
    "        y = center+std_err\n",
    "        return y\n",
    "    return f"
   ]
  },
  {
   "cell_type": "code",
   "execution_count": 10,
   "metadata": {},
   "outputs": [
    {
     "data": {
      "text/html": [
       "<table>\n",
       "    <tr>\n",
       "        <td title=\"Minimum value of function\">FCN = 15889.30547192165</td>\n",
       "        <td title=\"Total number of call to FCN so far\">TOTAL NCALL = 83</td>\n",
       "        <td title=\"Number of call in last migrad\">NCALLS = 83</td>\n",
       "    </tr>\n",
       "    <tr>\n",
       "        <td title=\"Estimated distance to minimum\">EDM = 3.351064068066203e-07</td>\n",
       "        <td title=\"Maximum EDM definition of convergence\">GOAL EDM = 5e-06</td>\n",
       "        <td title=\"Error def. Amount of increase in FCN to be defined as 1 standard deviation\">\n",
       "        UP = 0.5</td>\n",
       "    </tr>\n",
       "</table>\n",
       "<table>\n",
       "    <tr>\n",
       "        <td align=\"center\" title=\"Validity of the migrad call\">Valid</td>\n",
       "        <td align=\"center\" title=\"Validity of parameters\">Valid Param</td>\n",
       "        <td align=\"center\" title=\"Is Covariance matrix accurate?\">Accurate Covar</td>\n",
       "        <td align=\"center\" title=\"Positive definiteness of covariance matrix\">PosDef</td>\n",
       "        <td align=\"center\" title=\"Was covariance matrix made posdef by adding diagonal element\">Made PosDef</td>\n",
       "    </tr>\n",
       "    <tr>\n",
       "        <td align=\"center\" style=\"background-color:#92CCA6\">True</td>\n",
       "        <td align=\"center\" style=\"background-color:#92CCA6\">True</td>\n",
       "        <td align=\"center\" style=\"background-color:#92CCA6\">True</td>\n",
       "        <td align=\"center\" style=\"background-color:#92CCA6\">True</td>\n",
       "        <td align=\"center\" style=\"background-color:#92CCA6\">False</td>\n",
       "    </tr>\n",
       "    <tr>\n",
       "        <td align=\"center\" title=\"Was last hesse call fail?\">Hesse Fail</td>\n",
       "        <td align=\"center\" title=\"Validity of covariance\">HasCov</td>\n",
       "        <td align=\"center\" title=\"Is EDM above goal EDM?\">Above EDM</td>\n",
       "        <td align=\"center\"></td>\n",
       "        <td align=\"center\" title=\"Did last migrad call reach max call limit?\">Reach calllim</td>\n",
       "    </tr>\n",
       "    <tr>\n",
       "        <td align=\"center\" style=\"background-color:#92CCA6\">False</td>\n",
       "        <td align=\"center\" style=\"background-color:#92CCA6\">True</td>\n",
       "        <td align=\"center\" style=\"background-color:#92CCA6\">False</td>\n",
       "        <td align=\"center\"></td>\n",
       "        <td align=\"center\" style=\"background-color:#92CCA6\">False</td>\n",
       "    </tr>\n",
       "</table>\n"
      ]
     },
     "metadata": {},
     "output_type": "display_data"
    },
    {
     "data": {
      "text/html": [
       "<table>\n",
       "    <tr>\n",
       "        <td/>\n",
       "        <td title=\"Variable name\">Name</td>\n",
       "        <td title=\"Value of parameter\">Value</td>\n",
       "        <td title=\"Hesse error\">Hesse Error</td>\n",
       "        <td title=\"Minos lower error\">Minos Error-</td>\n",
       "        <td title=\"Minos upper error\">Minos Error+</td>\n",
       "        <td title=\"Lower limit of the parameter\">Limit-</td>\n",
       "        <td title=\"Upper limit of the parameter\">Limit+</td>\n",
       "        <td title=\"Is the parameter fixed in the fit\">Fixed?</td>\n",
       "    </tr>\n",
       "    <tr>\n",
       "        <td>0</td>\n",
       "        <td>beta0</td>\n",
       "        <td>-0.436358</td>\n",
       "        <td>0.0152939</td>\n",
       "        <td></td>\n",
       "        <td></td>\n",
       "        <td></td>\n",
       "        <td></td>\n",
       "        <td>No</td>\n",
       "    </tr>\n",
       "    <tr>\n",
       "        <td>1</td>\n",
       "        <td>beta1</td>\n",
       "        <td>0.0453883</td>\n",
       "        <td>0.000926627</td>\n",
       "        <td></td>\n",
       "        <td></td>\n",
       "        <td></td>\n",
       "        <td></td>\n",
       "        <td>No</td>\n",
       "    </tr>\n",
       "</table>"
      ]
     },
     "metadata": {},
     "output_type": "display_data"
    },
    {
     "name": "stdout",
     "output_type": "stream",
     "text": [
      "minimum for the sample: [15889.30547192]\n"
     ]
    }
   ],
   "source": [
    "from iminuit import Minuit\n",
    "# MINUIT is a suite for numerical minimization and error estimation, originally written in FORTRAN\n",
    "# minimize your loss function of choice with the migrad method (gradient descent)\n",
    "# This is a numerical way of estimating the minimum, \n",
    "# rather than an analytical solution like the normal equation\n",
    "para_names = ['beta'+str(i) for i in range(n_features)]\n",
    "snoq_likelihood = neg2_log_likelihood(X,Y)\n",
    "nuit = Minuit.from_array_func(snoq_likelihood, (0.5,0.5), error=(0.1,0.1), name = tuple(para_names), errordef = 0.5)\n",
    "nuit.migrad();\n",
    "best_theta = np.array(nuit.values.values())\n",
    "print('minimum for the sample: {}'.format(snoq_likelihood(best_theta)))\n",
    "#print('likelihood: {}'.format(snoq_likelihood(np.array((best_theta[0]+.1,best_theta[1]-.1)))))"
   ]
  },
  {
   "cell_type": "code",
   "execution_count": 11,
   "metadata": {},
   "outputs": [],
   "source": [
    "#get the regression functions using the best fit estimators\n",
    "sample_best_fit_curve = logit_regression(best_theta,X)\n",
    "# get the xaxis and the prediction for x\n",
    "xaxis = np.linspace(0,500,500).reshape(-1,1)\n",
    "x_values = np.concatenate((np.ones(xaxis.size).reshape(-1,1), xaxis),axis=1)\n",
    "# draw the y axis\n",
    "yaxis = sample_best_fit_curve(x_values, 0)"
   ]
  },
  {
   "cell_type": "code",
   "execution_count": 12,
   "metadata": {},
   "outputs": [
    {
     "data": {
      "image/png": "[encoded data removed]",
      "text/plain": [
       "<matplotlib.figure.Figure at 0x116bd04a8>"
      ]
     },
     "metadata": {
      "needs_background": "light"
     },
     "output_type": "display_data"
    }
   ],
   "source": [
    "plt.close('all')\n",
    "plt.figure(figsize=(16,12))\n",
    "plt.scatter(x=snoq['rainfall today'].values, y=snoq['rained tomorrow?'].values, s=50, color='blue',marker='o',facecolors='none');\n",
    "plt.plot(xaxis,yaxis, linewidth=1,color='green') #regression line\n",
    "plt.title('Regression for probability of Rainfall in Snoqualmie, WA')\n",
    "plt.xlabel('Rainfall today (1/100 in.)')\n",
    "plt.ylabel('Precipitation tomorrow?')\n",
    "plt.grid(axis='y', alpha=0.75)"
   ]
  },
  {
   "cell_type": "markdown",
   "metadata": {},
   "source": [
    "# Propagating errors\n",
    "\n",
    "To draw the confidence interval around our regression, we will use the Hessian errors, since they include the covariances of the estimators. We will get the confidence band around $E[Y|X=x]$ by using the sum of correlated random variables..\n",
    "\n",
    "We define Z as the population parameter of the log-odds of it raining, given X=x. $B$ are the optimal parameters that maximize the likelihood when we are forced to use a linear logistic model.  \n",
    "\n",
    "$$ Z(X=x) = \\text{log}\\frac{E[Y|X=x]}{1-E[Y|X=x]} = B_0 + x \\cdot B $$\n",
    "\n",
    "We do not have access to the whole population, but just the sample that was provided above. In that case we have estimated Z using the best-fit parameters $\\beta_0$ and $\\beta$, calculated from the maximum likelihood of our sample. We call this estimate $\\hat{Z}$ and try to find the confidence band around it with the following equation:\n",
    "\n",
    "$$ V[\\hat{Z}(X=x)] = V[\\sum_i x_i \\beta_i] = \\sum_{i=1}^n x_i^2 V[\\beta_i] + \\sum_{1 \\leq i \\lt j}^n 2 x_i x_j Cov[\\beta_i, \\beta_j] $$\n",
    "\n",
    "The $x_i$ here are the features associated with each $\\beta_i$, and not the individual $x$ measurements in the sample.\n",
    "\n",
    "These confidence intervals only account for variance in the estimated parameters, and they do not account for the possible bias of the fit. i.e. the linear-logistic regression may not be the most optimal model to maximize the likelihood. These confidence intervals will not capture the uncertainty due to using a suboptimal model."
   ]
  },
  {
   "cell_type": "code",
   "execution_count": 13,
   "metadata": {},
   "outputs": [
    {
     "data": {
      "text/html": [
       "<table>\n",
       "    <tr>\n",
       "        <td/>\n",
       "        <td title=\"Variable name\">Name</td>\n",
       "        <td title=\"Value of parameter\">Value</td>\n",
       "        <td title=\"Hesse error\">Hesse Error</td>\n",
       "        <td title=\"Minos lower error\">Minos Error-</td>\n",
       "        <td title=\"Minos upper error\">Minos Error+</td>\n",
       "        <td title=\"Lower limit of the parameter\">Limit-</td>\n",
       "        <td title=\"Upper limit of the parameter\">Limit+</td>\n",
       "        <td title=\"Is the parameter fixed in the fit\">Fixed?</td>\n",
       "    </tr>\n",
       "    <tr>\n",
       "        <td>0</td>\n",
       "        <td>beta0</td>\n",
       "        <td>-0.436358</td>\n",
       "        <td>0.0152933</td>\n",
       "        <td></td>\n",
       "        <td></td>\n",
       "        <td></td>\n",
       "        <td></td>\n",
       "        <td>No</td>\n",
       "    </tr>\n",
       "    <tr>\n",
       "        <td>1</td>\n",
       "        <td>beta1</td>\n",
       "        <td>0.0453883</td>\n",
       "        <td>0.000926587</td>\n",
       "        <td></td>\n",
       "        <td></td>\n",
       "        <td></td>\n",
       "        <td></td>\n",
       "        <td>No</td>\n",
       "    </tr>\n",
       "</table>"
      ]
     },
     "metadata": {},
     "output_type": "display_data"
    },
    {
     "data": {
      "text/html": [
       "<table>\n",
       "    <tr>\n",
       "        <td/> <td>beta0</td> <td>beta1</td>\n",
       "    </tr>\n",
       "    <tr>\n",
       "        <td>beta0</td> <td style=\"background-color:rgb(255,117,117)\">1.00</td> <td style=\"background-color:rgb(207,188,153)\">-0.48</td>\n",
       "    </tr>\n",
       "    <tr>\n",
       "        <td>beta1</td> <td style=\"background-color:rgb(207,188,153)\">-0.48</td> <td style=\"background-color:rgb(255,117,117)\">1.00</td>\n",
       "    </tr>\n",
       "</table>\n"
      ]
     },
     "metadata": {},
     "output_type": "display_data"
    },
    {
     "name": "stdout",
     "output_type": "stream",
     "text": [
      "array([[ 2.33883814e-04, -6.84005393e-06],\n",
      "       [-6.84005393e-06,  8.58564025e-07]])\n",
      "std_dev b: 0.015293260399048316 \n",
      " std_dev m: 0.00092658730043826\n"
     ]
    }
   ],
   "source": [
    "# Numerically calculate the hessian (for getting the correlation matrix of the errors). \n",
    "# Inverse of Hessian gives symmetric errors and assumes a multivariate gaussian distribution for the estimators\n",
    "from pprint import pprint\n",
    "nuit.hesse()\n",
    "cov_matrix = nuit.np_matrix()\n",
    "pprint(cov_matrix) \n",
    "print('std_dev b: {} \\n std_dev m: {}'.format(np.sqrt(cov_matrix[0][0]),np.sqrt(cov_matrix[1][1])))"
   ]
  },
  {
   "cell_type": "code",
   "execution_count": 14,
   "metadata": {},
   "outputs": [
    {
     "data": {
      "text/html": [
       "<span>Minos status for beta0: <span style=\"background-color:#92CCA6\">VALID</span></span>\n",
       "<table>\n",
       "    <tr>\n",
       "        <td title=\"lower and upper minos error of the parameter\">Error</td>\n",
       "        <td>-0.015297673224241089</td>\n",
       "        <td>0.015299467236875646</td>\n",
       "    </tr>\n",
       "    <tr>\n",
       "        <td title=\"Validity of minos error\">Valid</td>\n",
       "        <td style=\"background-color:#92CCA6\">True</td>\n",
       "        <td style=\"background-color:#92CCA6\">True</td>\n",
       "    </tr>\n",
       "    <tr>\n",
       "        <td title=\"Did minos error search hit limit of any parameter?\">At Limit</td>\n",
       "        <td style=\"background-color:#92CCA6\">False</td>\n",
       "        <td style=\"background-color:#92CCA6\">False</td>\n",
       "    </tr>\n",
       "    <tr>\n",
       "        <td title=\"I don't really know what this one means... Post it in issue if you know\">Max FCN</td>\n",
       "        <td style=\"background-color:#92CCA6\">False</td>\n",
       "        <td style=\"background-color:#92CCA6\">False</td>\n",
       "    </tr>\n",
       "    <tr>\n",
       "        <td title=\"New minimum found when doing minos scan.\">New Min</td>\n",
       "        <td style=\"background-color:#92CCA6\">False</td>\n",
       "        <td style=\"background-color:#92CCA6\">False</td>\n",
       "    </tr>\n",
       "</table>\n"
      ]
     },
     "metadata": {},
     "output_type": "display_data"
    },
    {
     "data": {
      "text/html": [
       "<span>Minos status for beta1: <span style=\"background-color:#92CCA6\">VALID</span></span>\n",
       "<table>\n",
       "    <tr>\n",
       "        <td title=\"lower and upper minos error of the parameter\">Error</td>\n",
       "        <td>-0.0009231702692846029</td>\n",
       "        <td>0.0009305996512600799</td>\n",
       "    </tr>\n",
       "    <tr>\n",
       "        <td title=\"Validity of minos error\">Valid</td>\n",
       "        <td style=\"background-color:#92CCA6\">True</td>\n",
       "        <td style=\"background-color:#92CCA6\">True</td>\n",
       "    </tr>\n",
       "    <tr>\n",
       "        <td title=\"Did minos error search hit limit of any parameter?\">At Limit</td>\n",
       "        <td style=\"background-color:#92CCA6\">False</td>\n",
       "        <td style=\"background-color:#92CCA6\">False</td>\n",
       "    </tr>\n",
       "    <tr>\n",
       "        <td title=\"I don't really know what this one means... Post it in issue if you know\">Max FCN</td>\n",
       "        <td style=\"background-color:#92CCA6\">False</td>\n",
       "        <td style=\"background-color:#92CCA6\">False</td>\n",
       "    </tr>\n",
       "    <tr>\n",
       "        <td title=\"New minimum found when doing minos scan.\">New Min</td>\n",
       "        <td style=\"background-color:#92CCA6\">False</td>\n",
       "        <td style=\"background-color:#92CCA6\">False</td>\n",
       "    </tr>\n",
       "</table>\n"
      ]
     },
     "metadata": {},
     "output_type": "display_data"
    },
    {
     "name": "stdout",
     "output_type": "stream",
     "text": [
      "{('beta0', -1.0): -0.015297673224241089,\n",
      " ('beta0', 1.0): 0.015299467236875646,\n",
      " ('beta1', -1.0): -0.0009231702692846029,\n",
      " ('beta1', 1.0): 0.0009305996512600799}\n"
     ]
    }
   ],
   "source": [
    "# Can check the Hessian errors with MINOS, which utilizes profile likelihood to get the variances\n",
    "# Since it uses profile likelihood, it does not give covariances.\n",
    "# If the errors are comparable, then the asymptotic assumptions of the Hessian are all right\n",
    "nuit.minos()\n",
    "pprint(nuit.merrors)"
   ]
  },
  {
   "cell_type": "markdown",
   "metadata": {},
   "source": [
    "# Plot the best fit curve"
   ]
  },
  {
   "cell_type": "code",
   "execution_count": 15,
   "metadata": {},
   "outputs": [],
   "source": [
    "# use the best-fit thetas to get the regression curve\n",
    "sample_best_fit_curve = logit_regression(best_theta,X,cov_matrix)\n",
    "# get the central value and confidence intervals from the regression curve\n",
    "xaxis = np.linspace(0,500,500).reshape(-1,1)\n",
    "x_values = np.concatenate((np.ones(xaxis.size).reshape(-1,1), xaxis),axis=1)\n",
    "yaxis_1err = sample_best_fit_curve(x_values, 1.96)\n",
    "yaxis_neg1err = sample_best_fit_curve(x_values, -1.96)"
   ]
  },
  {
   "cell_type": "code",
   "execution_count": 16,
   "metadata": {},
   "outputs": [
    {
     "data": {
      "image/png": "[encoded data removed]",
      "text/plain": [
       "<matplotlib.figure.Figure at 0x1170a6080>"
      ]
     },
     "metadata": {
      "needs_background": "light"
     },
     "output_type": "display_data"
    }
   ],
   "source": [
    "#plot it!\n",
    "plt.close('all')\n",
    "plt.figure(figsize=(16,12))\n",
    "plt.scatter(x=snoq['rainfall today'].values, y=snoq['rained tomorrow?'].values, s=50, color='blue',marker='o',facecolors='none');\n",
    "plt.plot(xaxis,yaxis_1err, linewidth=1,color='red',linestyle='dashed') # 95% confidence up assuming Gaussian errors on estimators\n",
    "plt.plot(xaxis,yaxis_neg1err, linewidth=1,color='red',linestyle='dashed') # 95% confidence down assuming Gaussian errors on estimators\n",
    "plt.plot(xaxis,yaxis, linewidth=1,color='green') #regression line\n",
    "plt.title('Regression for probability of Rainfall in Snoqualmie, WA')\n",
    "plt.xlabel('Rainfall today (1/100 in.)')\n",
    "plt.ylabel('Precipitation tomorrow?')\n",
    "plt.grid(axis='y', alpha=0.75)\n",
    "# These confidence intervals only account for variance, they do not account for the possible bias of the fit. \n",
    "# I.e. logistic regression may not be the most optimal model to maximizes the likelihood."
   ]
  },
  {
   "cell_type": "markdown",
   "metadata": {},
   "source": [
    "# Checking for bias\n",
    "\n",
    "We can check for bias in the parametric linear-logistic fit by doing a fit to a non-parametric logistic model and comparing their maximum likelihoods. We will stick with modeling the log-odds $Z$, but use non-parametric smoothing functions $f(x)$ and not require that they be linear in $X$. \n",
    "\n",
    "$$ Z(X=x) = \\text{log}\\frac{E[Y|X=x]}{1-E[Y|X=x]} = a + \\sum_i^p f_i(x_i) $$\n",
    "\n",
    "$p$ are the number of features.\n",
    "\n",
    "Going to just use a general additive model (GAM) package to do the fit. pyGAM uses penalized B splines as the feature functions $f(X_i)$. From the pyGAM website: \"GAMs extend generalized linear models by allowing non-linear functions of features while maintaining additivity. Since the model is additive, it is easy to examine the effect of each $X_i$ on $Y$ individually while holding all other predictors constant.\"\n",
    "\n",
    "## Get best-fit from the GAM model"
   ]
  },
  {
   "cell_type": "code",
   "execution_count": 17,
   "metadata": {},
   "outputs": [
    {
     "name": "stdout",
     "output_type": "stream",
     "text": [
      "LogisticGAM                                                                                               \n",
      "=============================================== ==========================================================\n",
      "Distribution:                      BinomialDist Effective DoF:                                      7.6278\n",
      "Link Function:                        LogitLink Log Likelihood:                                 -7484.1159\n",
      "Number of Samples:                        13148 AIC:                                            14983.4873\n",
      "                                                AICc:                                              14983.5\n",
      "                                                UBRE:                                               3.1401\n",
      "                                                Scale:                                                 1.0\n",
      "                                                Pseudo R-Squared:                                   0.1772\n",
      "==========================================================================================================\n",
      "Feature Function                  Lambda               Rank         EDoF         P > x        Sig. Code   \n",
      "================================= ==================== ============ ============ ============ ============\n",
      "s(0)                              [0.6]                20           1.0          0.00e+00     ***         \n",
      "s(1)                              [0.6]                20           6.6          0.00e+00     ***         \n",
      "==========================================================================================================\n",
      "Significance codes:  0 '***' 0.001 '**' 0.01 '*' 0.05 '.' 0.1 ' ' 1\n",
      "\n",
      "WARNING: Fitting splines and a linear function to a feature introduces a model identifiability problem\n",
      "         which can cause p-values to appear significant when they are not.\n",
      "\n",
      "WARNING: p-values calculated in this manner behave correctly for un-penalized models or models with\n",
      "         known smoothing parameters, but when smoothing parameters have been estimated, the p-values\n",
      "         are typically lower than they should be, meaning that the tests reject the null too readily.\n",
      "-2 log likelihood for GAM: 14968.232\n"
     ]
    },
    {
     "name": "stderr",
     "output_type": "stream",
     "text": [
      "/usr/local/anaconda3/envs/handsonml/lib/python3.6/site-packages/ipykernel_launcher.py:4: UserWarning: KNOWN BUG: p-values computed in this summary are likely much smaller than they should be. \n",
      " \n",
      "Please do not make inferences based on these values! \n",
      "\n",
      "Collaborate on a solution, and stay up to date at: \n",
      "github.com/dswah/pyGAM/issues/163 \n",
      "\n",
      "  after removing the cwd from sys.path.\n"
     ]
    }
   ],
   "source": [
    "from pygam import LogisticGAM, s\n",
    "\n",
    "gam = LogisticGAM(s(0)+s(1), fit_intercept=False).fit(X, Y) # I've included the intercept in X[0]\n",
    "gam.summary()\n",
    "gam_likelihood = -2.*gam.loglikelihood(X, Y)\n",
    "print('-2 log likelihood for GAM: {:.3f}'.format(gam_likelihood))\n"
   ]
  },
  {
   "cell_type": "markdown",
   "metadata": {},
   "source": [
    "## Plot the GAM model to the sample and overlay with linear model"
   ]
  },
  {
   "cell_type": "code",
   "execution_count": 18,
   "metadata": {},
   "outputs": [
    {
     "data": {
      "image/png": "[encoded data removed]",
      "text/plain": [
       "<matplotlib.figure.Figure at 0x1a1a8cdbe0>"
      ]
     },
     "metadata": {
      "needs_background": "light"
     },
     "output_type": "display_data"
    }
   ],
   "source": [
    "gam_axis = gam.predict_mu(x_values)\n",
    "gam_ci = gam.confidence_intervals(x_values,0.95)\n",
    "#plot the fit\n",
    "plt.close('all')\n",
    "plt.figure(figsize=(16,12))\n",
    "plt.scatter(x=snoq['rainfall today'].values, y=snoq['rained tomorrow?'].values, s=50, color='blue',marker='o',facecolors='none');\n",
    "plt.plot(xaxis,gam_axis, linewidth=1,color='green') #regression line\n",
    "plt.plot(xaxis,gam_ci, linewidth=1,color='red',linestyle='dashed') #regression line\n",
    "plt.title('GAM Regression for probability of Rainfall in Snoqualmie, WA')\n",
    "plt.xlabel('Rainfall today (1/100 in.)')\n",
    "plt.ylabel('Precipitation tomorrow?')\n",
    "plt.grid(axis='y', alpha=0.75)"
   ]
  },
  {
   "cell_type": "code",
   "execution_count": 19,
   "metadata": {},
   "outputs": [
    {
     "data": {
      "image/png": "[encoded data removed]",
      "text/plain": [
       "<matplotlib.figure.Figure at 0x11733f978>"
      ]
     },
     "metadata": {
      "needs_background": "light"
     },
     "output_type": "display_data"
    }
   ],
   "source": [
    "#Overlay the two\n",
    "plt.close('all')\n",
    "plt.figure(figsize=(16,12))\n",
    "plt.scatter(x=snoq['rainfall today'].values, y=snoq['rained tomorrow?'].values, s=50, color='blue',marker='o',facecolors='none');\n",
    "plt.plot(xaxis,gam_ci, linewidth=1,color='red',linestyle='dashed') #gam fit\n",
    "plt.plot(xaxis,gam_axis, linewidth=1,color='green') #gam fit\n",
    "plt.plot(xaxis,yaxis_1err, linewidth=1,color='red',linestyle='dashed') # linear fit\n",
    "plt.plot(xaxis,yaxis_neg1err, linewidth=1,color='red',linestyle='dashed') # linear fit\n",
    "plt.plot(xaxis,yaxis, linewidth=1,color='green') # linear fit\n",
    "plt.title('Regression overlay for probability of Rainfall in Snoqualmie, WA')\n",
    "plt.xlabel('Rainfall today (1/100 in.)')\n",
    "plt.ylabel('Precipitation tomorrow?')\n",
    "plt.grid(axis='y', alpha=0.75)"
   ]
  },
  {
   "cell_type": "markdown",
   "metadata": {},
   "source": [
    "## Simulating from the linear fit to calculate bias\n",
    "\n",
    "Visually, the two regressions look quite different. The GAM has more degrees of freedom and so can be more \"wiggly\" than the log-linear model. The question is though, would those extra degrees of freedom go to zero with a larger sample size (making the GAM more like the linear model) or is the GAM capturing other characteristics of the feature that the linear model is ignoring? If the parametric log-linear model is optimal, then the GAM would eventually approximate it. \n",
    "\n",
    "We can measure departure from optimality by taking the difference of the minimum -2 log likelihoods from the two models. If this difference is \"too big\", then the linear model is biased and not the optimal model (i.e. we can state, within a certain confidence, that the non-parametric GAM is fitting to a more optimal underlying model given the features X). \n",
    "\n",
    "Rather than assuming some asymptotic behavior of the difference of the -2 log likelihood (i.e. that it follows a $\\chi^2$ distribution with degrees of freedom dof_GAM-dof_linear), we will instead simulate many -2 log likelihood differences asssuming the log-linear model is correct, and assume that the difference between the simulated samples will be characteristic of the difference between the actual sample (if the log-linear model is indeed optimal).\n",
    "\n",
    "We will also compare this to the measured $\\chi^2$."
   ]
  },
  {
   "cell_type": "code",
   "execution_count": 20,
   "metadata": {},
   "outputs": [],
   "source": [
    "# Give the original X coordinates with the log-linear function and best-fit thetas \n",
    "# to generate the predicted probabilities.\n",
    "# Use the predicted probabilities in a binomial distribution to get a new set of Y results\n",
    "def generate_new_sample(theta, x_ori,seed=0):\n",
    "    predict = logit_regression(theta)\n",
    "    probs = predict(x_ori)\n",
    "    np.random.seed(seed)\n",
    "    y = np.random.binomial(1, probs, probs.shape)\n",
    "    return y\n",
    "\n",
    "def calculate_2ll_diff(x,y):\n",
    "    # Get the best fit linear model\n",
    "    likelihood_func = neg2_log_likelihood(x,y)\n",
    "    fitter = Minuit.from_array_func(likelihood_func, [0.5]*x.shape[1], error=[0.1]*x.shape[1], errordef = 0.5, print_level=0)\n",
    "    fitter.migrad();\n",
    "    fit_theta = np.array(fitter.values.values())\n",
    "    linear_2ll = likelihood_func(fit_theta)\n",
    "    # get the best fit GAM model\n",
    "    gam_sim = LogisticGAM(fit_intercept=False).fit(x, y)\n",
    "    gam_2ll = -2.*gam_sim.loglikelihood(x, y)\n",
    "    #return the difference in -2 log likelihood\n",
    "    return (linear_2ll-gam_2ll) \n"
   ]
  },
  {
   "cell_type": "code",
   "execution_count": 21,
   "metadata": {},
   "outputs": [
    {
     "name": "stdout",
     "output_type": "stream",
     "text": [
      "..............................done\n",
      "Time elapsed: 0.5342064023017883 min\n",
      "n samples: 30\n"
     ]
    }
   ],
   "source": [
    "import concurrent.futures, time, random\n",
    "# simulate the models many times to get a lot of likelihood differences\n",
    "# This may take a long time to run\n",
    "n_sim = 30\n",
    "likelihood_differences = []\n",
    "\n",
    "def model(seed):\n",
    "    y_sim = generate_new_sample(best_theta, X, seed)\n",
    "    result = calculate_2ll_diff(X,y_sim)\n",
    "    return result\n",
    "\n",
    "seeds = random.sample(range(n_sim*5),n_sim)\n",
    "\n",
    "start = time.time()\n",
    "with concurrent.futures.ProcessPoolExecutor(max_workers=8) as executor:\n",
    "    for i, result in zip(range(len(seeds)), executor.map(model,seeds)):\n",
    "        likelihood_differences.append(result)\n",
    "        print('.',end =\"\")\n",
    "end = time.time()\n",
    "print('done')\n",
    "\n",
    "print('Time elapsed: {} min'.format((end-start)/60))\n",
    "likelihood_differences = np.array(likelihood_differences)\n",
    "print('n samples: {}'.format(len(likelihood_differences)))"
   ]
  },
  {
   "cell_type": "code",
   "execution_count": 29,
   "metadata": {},
   "outputs": [
    {
     "name": "stdout",
     "output_type": "stream",
     "text": [
      "30\n"
     ]
    },
    {
     "name": "stderr",
     "output_type": "stream",
     "text": [
      "/usr/local/anaconda3/envs/handsonml/lib/python3.6/site-packages/ipykernel_launcher.py:4: InitialParamWarning: Parameter k is floating but does not have initial step size. Assume 1.\n",
      "  after removing the cwd from sys.path.\n"
     ]
    },
    {
     "data": {
      "text/html": [
       "<table>\n",
       "    <tr>\n",
       "        <td title=\"Minimum value of function\">FCN = 2.082289508715244</td>\n",
       "        <td title=\"Total number of call to FCN so far\">TOTAL NCALL = 22</td>\n",
       "        <td title=\"Number of call in last migrad\">NCALLS = 22</td>\n",
       "    </tr>\n",
       "    <tr>\n",
       "        <td title=\"Estimated distance to minimum\">EDM = 6.713868387240019e-07</td>\n",
       "        <td title=\"Maximum EDM definition of convergence\">GOAL EDM = 5e-06</td>\n",
       "        <td title=\"Error def. Amount of increase in FCN to be defined as 1 standard deviation\">\n",
       "        UP = 0.5</td>\n",
       "    </tr>\n",
       "</table>\n",
       "<table>\n",
       "    <tr>\n",
       "        <td align=\"center\" title=\"Validity of the migrad call\">Valid</td>\n",
       "        <td align=\"center\" title=\"Validity of parameters\">Valid Param</td>\n",
       "        <td align=\"center\" title=\"Is Covariance matrix accurate?\">Accurate Covar</td>\n",
       "        <td align=\"center\" title=\"Positive definiteness of covariance matrix\">PosDef</td>\n",
       "        <td align=\"center\" title=\"Was covariance matrix made posdef by adding diagonal element\">Made PosDef</td>\n",
       "    </tr>\n",
       "    <tr>\n",
       "        <td align=\"center\" style=\"background-color:#92CCA6\">True</td>\n",
       "        <td align=\"center\" style=\"background-color:#92CCA6\">True</td>\n",
       "        <td align=\"center\" style=\"background-color:#92CCA6\">True</td>\n",
       "        <td align=\"center\" style=\"background-color:#92CCA6\">True</td>\n",
       "        <td align=\"center\" style=\"background-color:#92CCA6\">False</td>\n",
       "    </tr>\n",
       "    <tr>\n",
       "        <td align=\"center\" title=\"Was last hesse call fail?\">Hesse Fail</td>\n",
       "        <td align=\"center\" title=\"Validity of covariance\">HasCov</td>\n",
       "        <td align=\"center\" title=\"Is EDM above goal EDM?\">Above EDM</td>\n",
       "        <td align=\"center\"></td>\n",
       "        <td align=\"center\" title=\"Did last migrad call reach max call limit?\">Reach calllim</td>\n",
       "    </tr>\n",
       "    <tr>\n",
       "        <td align=\"center\" style=\"background-color:#92CCA6\">False</td>\n",
       "        <td align=\"center\" style=\"background-color:#92CCA6\">True</td>\n",
       "        <td align=\"center\" style=\"background-color:#92CCA6\">False</td>\n",
       "        <td align=\"center\"></td>\n",
       "        <td align=\"center\" style=\"background-color:#92CCA6\">False</td>\n",
       "    </tr>\n",
       "</table>\n"
      ]
     },
     "metadata": {},
     "output_type": "display_data"
    },
    {
     "data": {
      "text/html": [
       "<table>\n",
       "    <tr>\n",
       "        <td/>\n",
       "        <td title=\"Variable name\">Name</td>\n",
       "        <td title=\"Value of parameter\">Value</td>\n",
       "        <td title=\"Hesse error\">Hesse Error</td>\n",
       "        <td title=\"Minos lower error\">Minos Error-</td>\n",
       "        <td title=\"Minos upper error\">Minos Error+</td>\n",
       "        <td title=\"Lower limit of the parameter\">Limit-</td>\n",
       "        <td title=\"Upper limit of the parameter\">Limit+</td>\n",
       "        <td title=\"Is the parameter fixed in the fit\">Fixed?</td>\n",
       "    </tr>\n",
       "    <tr>\n",
       "        <td>0</td>\n",
       "        <td>k</td>\n",
       "        <td>6.25044</td>\n",
       "        <td>3.25936</td>\n",
       "        <td></td>\n",
       "        <td></td>\n",
       "        <td></td>\n",
       "        <td></td>\n",
       "        <td>No</td>\n",
       "    </tr>\n",
       "</table>"
      ]
     },
     "metadata": {},
     "output_type": "display_data"
    },
    {
     "data": {
      "text/plain": [
       "6.250440149867199"
      ]
     },
     "execution_count": 29,
     "metadata": {},
     "output_type": "execute_result"
    }
   ],
   "source": [
    "from probfit import UnbinnedLH, chisquared\n",
    "unbinned_likelihood = UnbinnedLH(chisquared, likelihood_differences[0])\n",
    "minuit = Minuit(unbinned_likelihood, k=2)\n",
    "minuit.migrad()\n",
    "minuit.values.values()[0]"
   ]
  },
  {
   "cell_type": "code",
   "execution_count": null,
   "metadata": {},
   "outputs": [],
   "source": [
    "#create a chi2 distribution\n",
    "from scipy.stats import chi2\n",
    "estimate_gam_dof = sum(gam.statistics_['edof_per_coef'])\n",
    "print('estimated GAM dof: {}'.format(estimate_gam_dof))\n",
    "rv = chi2(estimate_gam_dof-2)\n",
    "x_chi2 = np.linspace(0,20,100)\n",
    "# plot a histogram of the differences in likelihood, with the original sample one overlayed\n",
    "plt.close('all')\n",
    "plt.figure(figsize=(16,12))\n",
    "plt.hist(likelihood_differences, bins=50, rwidth=0.9, normed=True)\n",
    "plt.plot(x_chi2, rv.pdf(x_chi2), 'k-', lw=2)\n",
    "plt.title('GAM vs Linear model simulation, assuming Linear model is optimal')\n",
    "plt.xlabel('-2 Log Likelihood difference')\n",
    "plt.ylabel('Frequency')\n",
    "plt.grid(axis='y', alpha=0.75)"
   ]
  },
  {
   "cell_type": "code",
   "execution_count": null,
   "metadata": {},
   "outputs": [],
   "source": [
    "# calculate a p-value from the histogram.\n",
    "sample_difference = calculate_2ll_diff(X,Y)\n",
    "gt_sample = likelihood_differences >= sample_difference\n",
    "p_value = sum(gt_sample)/sum(likelihood_differences)\n",
    "print('average difference of simulation is: {}'.format(sum(likelihood_differences)/len(likelihood_differences)))\n",
    "print('sample difference is: {:.2f}'.format(sample_difference[0]))\n",
    "print('p-value is: {}'.format(p_value[0]))\n",
    "# calculate a p-value using the asymptotic assumptions"
   ]
  },
  {
   "cell_type": "markdown",
   "metadata": {},
   "source": [
    "# Add another feature to the logistic fit\n",
    "\n",
    "Now we are going to add a simple binary feature to the regression about whether it rained today or not. The information is implicitly already in `rainfall_today`, but making the fact that it rained today (even if it was just a little) an explicit True/False feature may improve the logistic model and get a more optimal sample minimum likelihood value. "
   ]
  },
  {
   "cell_type": "code",
   "execution_count": null,
   "metadata": {},
   "outputs": [],
   "source": [
    "# add another columns of data to use in the fit\n",
    "X2 = snoq['rained today?'].values.astype(int).reshape(-1,1)\n",
    "Xextend = np.concatenate((X,X2), axis=1)\n",
    "print(Xextend[9:15])\n",
    "n_features_extend = Xextend.shape[1]"
   ]
  },
  {
   "cell_type": "code",
   "execution_count": null,
   "metadata": {},
   "outputs": [],
   "source": [
    "para_names_extend = ['beta'+str(i) for i in range(n_features_extend)]\n",
    "snoq_likelihood_extended = neg2_log_likelihood(Xextend,Y)\n",
    "nuit_extended = Minuit.from_array_func(snoq_likelihood_extended, (0.5,0.5,0.5), error=(0.1,0.1,0.1), name = tuple(para_names_extend), errordef = 0.5)\n",
    "nuit_extended.migrad();\n",
    "better_theta = np.array(nuit_extended.values.values())\n",
    "print('minimum likelihood for the sample with two features: {}'.format(snoq_likelihood_extended(better_theta)))\n",
    "print('minimum likelihood for the sample with one feature: {}'.format(snoq_likelihood(best_theta)))\n",
    "nuit_extended.hesse()\n",
    "cov_matrix_extended = nuit_extended.np_matrix()"
   ]
  },
  {
   "cell_type": "code",
   "execution_count": null,
   "metadata": {},
   "outputs": [],
   "source": [
    "#get the regression function using the best fit estimators\n",
    "sample_better_fit_curve = logit_regression(better_theta,Xextend,cov_matrix_extended)\n",
    "# get the xaxis and the prediction for x and that it will rain (X2=1 everywhere)\n",
    "x2_values = np.concatenate((x_values, np.ones(xaxis.size).reshape(-1,1)),axis=1)\n",
    "# draw the y axis\n",
    "y2_axis = sample_better_fit_curve(x2_values, 0)\n",
    "y2_axis_1err = sample_better_fit_curve(x2_values, 1.96)\n",
    "y2_axis_neg1err = sample_better_fit_curve(x2_values, -1.96)"
   ]
  },
  {
   "cell_type": "code",
   "execution_count": null,
   "metadata": {},
   "outputs": [],
   "source": [
    "#create a new GAM fit including the new feature\n",
    "gam2 = LogisticGAM(s(0)+s(1)+s(2), fit_intercept=False).fit(Xextend, Y) \n",
    "gam2_axis = gam2.predict_mu(x2_values)\n",
    "gam2_ci = gam2.confidence_intervals(x2_values,0.95)\n",
    "gam2.summary()"
   ]
  },
  {
   "cell_type": "code",
   "execution_count": null,
   "metadata": {},
   "outputs": [],
   "source": [
    "plt.close('all')\n",
    "plt.figure(figsize=(16,12))\n",
    "plt.scatter(x=snoq['rainfall today'].values, y=snoq['rained tomorrow?'].values, s=50, color='blue',marker='o',facecolors='none');\n",
    "plt.plot(xaxis,y2_axis_1err, linewidth=1,color='red',linestyle='dashed') # linear fit with new feature\n",
    "plt.plot(xaxis,y2_axis_neg1err, linewidth=1,color='red',linestyle='dashed') # linear fit with new feature\n",
    "plt.plot(xaxis,y2_axis, linewidth=1,color='green') # linear fit with new feature\n",
    "plt.plot(xaxis,gam2_ci, linewidth=1,color='red',linestyle='dashed') #gam fit\n",
    "plt.plot(xaxis,gam2_axis, linewidth=1,color='green') #gam fit\n",
    "plt.title('Regression overlay for probability of Rainfall in Snoqualmie, WA')\n",
    "plt.xlabel('Rainfall today (1/100 in.)')\n",
    "plt.ylabel('Precipitation tomorrow?')\n",
    "plt.grid(axis='y', alpha=0.75)"
   ]
  },
  {
   "cell_type": "code",
   "execution_count": null,
   "metadata": {},
   "outputs": [],
   "source": [
    "print('-2 log likelihood for linear log: {:.3f}'.format(snoq_likelihood_extended(better_theta)[0]))\n",
    "print('-2 log likelihood for GAM: {:.3f}'.format(-2.*gam2.loglikelihood(Xextend, Y)))\n",
    "sample_difference_new = calculate_2ll_diff(Xextend, Y)\n",
    "print('sample difference: {:.3f}'.format(sample_difference_new[0]))"
   ]
  },
  {
   "cell_type": "code",
   "execution_count": null,
   "metadata": {},
   "outputs": [],
   "source": [
    "new_likelihood_differences = []\n",
    "\n",
    "def new_model(seed):\n",
    "    y_sim = generate_new_sample(better_theta, Xextend, seed)\n",
    "    result = calculate_2ll_diff(Xextend,y_sim)\n",
    "    return result\n",
    "\n",
    "new_seeds = random.sample(range(n_sim*5),n_sim)\n",
    "\n",
    "start = time.time()\n",
    "with concurrent.futures.ProcessPoolExecutor(max_workers=8) as executor:\n",
    "    for i, result in zip(range(len(new_seeds)), executor.map(new_model,new_seeds)):\n",
    "        new_likelihood_differences.append(result)\n",
    "        print('.',end =\"\")\n",
    "end = time.time()\n",
    "print('done')\n",
    "\n",
    "print('Time elapsed: {} min'.format((end-start)/60))\n",
    "new_likelihood_differences = np.array(new_likelihood_differences)\n",
    "print('n samples: {}'.format(len(new_likelihood_differences)))"
   ]
  },
  {
   "cell_type": "code",
   "execution_count": null,
   "metadata": {},
   "outputs": [],
   "source": [
    "estimate_gam2_dof = sum(gam2.statistics_['edof_per_coef'])\n",
    "print('estimated GAM dof: {}'.format(estimate_gam2_dof))\n",
    "rv = chi2(estimate_gam2_dof-3)\n",
    "x_chi2 = np.linspace(0,20,100)\n",
    "# plot a histogram of the differences in likelihood, with the original sample one overlayed\n",
    "plt.close('all')\n",
    "plt.figure(figsize=(16,12))\n",
    "plt.hist(new_likelihood_differences, bins=50, rwidth=0.9, normed=True)\n",
    "plt.plot(x_chi2, rv.pdf(x_chi2), 'k-', lw=2)\n",
    "plt.title('GAM vs Linear model simulation, assuming Linear model is optimal')\n",
    "plt.xlabel('-2 Log Likelihood difference')\n",
    "plt.ylabel('Frequency')\n",
    "plt.grid(axis='y', alpha=0.75)"
   ]
  },
  {
   "cell_type": "code",
   "execution_count": null,
   "metadata": {},
   "outputs": [],
   "source": [
    "# calculate a p-value from the histogram.\n",
    "gt_sample = new_likelihood_differences >= sample_difference_new\n",
    "new_p_value = sum(gt_sample)/sum(new_likelihood_differences)\n",
    "print('sample difference is: {:.2f}'.format(sample_difference_new[0]))\n",
    "print('average difference is: {}'.format(sum(new_likelihood_differences)/len(new_likelihood_differences)))\n",
    "print('p-value is: {}'.format(new_p_value[0]))\n",
    "# predict using asymptotic assumptions"
   ]
  },
  {
   "cell_type": "markdown",
   "metadata": {},
   "source": [
    "# Calibration\n",
    "\n",
    "The logistic model gives predicted probabilities. What is it compared to the actual fractions observed in the sample? How far does it deviate?\n"
   ]
  },
  {
   "cell_type": "code",
   "execution_count": null,
   "metadata": {},
   "outputs": [],
   "source": [
    "#The actual fraction in the sample that has 'rainfall tomorrow' = 1 if 'rainfall today' = 0\n",
    "no_rain_today = snoq['rained today?'] == False\n",
    "yes_rain_tomo = snoq['rained tomorrow?'] == True\n",
    "frac = sum(no_rain_today&yes_rain_tomo)/sum(no_rain_today)\n",
    "print(frac)\n",
    "#The predicted probability from the logistic function of 'rainfall tomorrow' = 1 if 'rainfall today' = 0\n",
    "x_test = np.array([1, 0, 0]).reshape(1,-1)\n",
    "prediction = sample_better_fit_curve(x_test)\n",
    "print(prediction[0])\n",
    "#Exactly the same"
   ]
  },
  {
   "cell_type": "code",
   "execution_count": null,
   "metadata": {},
   "outputs": [],
   "source": [
    "# It got that one right at least! But for the entire range from prob 0 to 1 how does it do? \n",
    "# transform the probability regression into a calibration regressionå\n",
    "# Make a new data frame that is organized by amount of rainfall, and the fraction of days that had rain tomorrow\n",
    "calib_df  = snoq[[\"rainfall today\",\"rained tomorrow?\"]].groupby(\"rainfall today\").agg(['count','sum'])\n",
    "calib_df = calib_df['rained tomorrow?']\n",
    "calib_df['bias'] = 1\n",
    "calib_df.index.name = 'rainfall today'\n",
    "calib_df.reset_index(inplace=True)\n",
    "calib_df = calib_df.rename(index=str, columns={\"count\": \"rain today count\"})\n",
    "calib_df['rained today?'] = (calib_df['rainfall today'] > 0).astype(int)\n",
    "calib_df['rain tomorrow count'] = calib_df['sum'].astype(int)\n",
    "calib_df = calib_df.drop(['sum'],axis=1)\n",
    "calib_df['measured frac'] = calib_df['rain tomorrow count'].div(calib_df['rain today count'])\n",
    "calib_df['predict frac'] = sample_better_fit_curve(calib_df[['bias','rainfall today','rained today?']])\n",
    "calib_df['std err'] = sample_better_fit_curve(calib_df[['bias','rainfall today','rained today?']],1.)\n",
    "calib_df['std err'] = calib_df['std err'] - calib_df['predict frac']\n",
    "calib_df.head(15)"
   ]
  },
  {
   "cell_type": "code",
   "execution_count": null,
   "metadata": {},
   "outputs": [],
   "source": [
    "plt.close('all')\n",
    "plt.figure(figsize=(16,12))\n",
    "plt.hist(calib_df['predict frac'],weights=calib_df['rain today count'], bins=100, rwidth=0.9, normed=True)\n",
    "plt.title('Count for a given predicted probability')\n",
    "plt.xlabel('Probability of rainfall tomorrow')\n",
    "plt.ylabel('Relative Frequency')\n",
    "plt.grid(axis='y', alpha=0.75)"
   ]
  },
  {
   "cell_type": "code",
   "execution_count": null,
   "metadata": {},
   "outputs": [],
   "source": [
    "#create a dataframe to use to plot\n",
    "plot_df = pd.DataFrame()\n",
    "linex = np.linspace(0,1,101)\n",
    "\n",
    "for i in range(len(linex)-1):\n",
    "    predictions = calib_df[(calib_df['predict frac'] > linex[i]) & (calib_df['predict frac'] <= linex[i+1])]\n",
    "    predict_center = (linex[i]+linex[i+1])/2.\n",
    "    counts = predictions['rain today count'].sum()\n",
    "    if predictions.shape[0] == 0:\n",
    "        predicted_mean = np.nan\n",
    "        measured_mean = np.nan\n",
    "        std_err_reg = np.nan\n",
    "        std_err = np.nan\n",
    "    else:\n",
    "        predicted_mean = predictions['predict frac'].mean()\n",
    "        measured_mean = predictions['measured frac'].mean()\n",
    "        #propagate errors from regression - add predicted errors in quadrature to get std err of regression\n",
    "        weighted_norm = np.dot(predictions['rain today count']*predictions['std err'],predictions['std err'])\n",
    "        std_err_reg = np.sqrt(weighted_norm/(counts**2))\n",
    "        # If you want errors around the predictions, have to include the noise error too \n",
    "        # The noise is unknown, but since we are using linear-logistic model, we assume binominal\n",
    "        binomial_var = predictions['predict frac']*(1-predictions['predict frac']) #variance for a bernoulli trial\n",
    "        binomial_var = ((predictions['rain today count']*binomial_var).sum())/(counts**2)\n",
    "        std_err = np.sqrt(std_err_reg**2 + binomial_var)\n",
    "    data = pd.DataFrame({'counts':counts,'predicted center':[predict_center],'predicted mean':[predicted_mean],\n",
    "                         'measured mean':[measured_mean], 'regression std err':[std_err_reg],\n",
    "                         'prediction std err': [std_err]})\n",
    "    plot_df = pd.concat([plot_df, data],axis=0, ignore_index=True)\n",
    "plot_df = plot_df.sort_values(by=['predicted center'])\n",
    "plot_df[60:70]"
   ]
  },
  {
   "cell_type": "code",
   "execution_count": null,
   "metadata": {},
   "outputs": [],
   "source": [
    "plt.close('all')\n",
    "plt.figure(figsize=(16,12))\n",
    "yerr = 1.96*plot_df['regression std err'].values\n",
    "plt.errorbar(x=plot_df['predicted center'].values, y=plot_df['predicted center'].values, yerr=yerr, lw=1, alpha=0.70)\n",
    "plt.scatter(x=plot_df['predicted mean'].values, y=plot_df['measured mean'].values, s=50, color='blue',marker='o',facecolors='none');\n",
    "plt.xlabel('Predicted Probabilities')\n",
    "plt.ylabel('Observed Frequencies')\n",
    "plt.grid(axis='both', alpha=0.75)\n",
    "# This only plots the error around the regression. \n",
    "# They are essentially invisible, as the log-linear regression has very little variance"
   ]
  },
  {
   "cell_type": "code",
   "execution_count": null,
   "metadata": {},
   "outputs": [],
   "source": [
    "plt.close('all')\n",
    "plt.figure(figsize=(16,12))\n",
    "yerr = 1.96*plot_df['prediction std err'].values\n",
    "plt.errorbar(x=plot_df['predicted center'].values, y=plot_df['predicted center'].values, yerr=yerr, lw=1, alpha=0.70)\n",
    "plt.scatter(x=plot_df['predicted mean'].values, y=plot_df['measured mean'].values, s=50, color='blue',marker='o',facecolors='none');\n",
    "plt.xlabel('Predicted Probabilities')\n",
    "plt.ylabel('Observed Frequencies')\n",
    "plt.grid(axis='both', alpha=0.75)\n",
    "# Assuming the noise is binomial, this plots the error around the predicted probability"
   ]
  },
  {
   "cell_type": "code",
   "execution_count": null,
   "metadata": {},
   "outputs": [],
   "source": []
  }
 ],
 "metadata": {
  "kernelspec": {
   "display_name": "Python 3",
   "language": "python",
   "name": "python3"
  },
  "language_info": {
   "codemirror_mode": {
    "name": "ipython",
    "version": 3
   },
   "file_extension": ".py",
   "mimetype": "text/x-python",
   "name": "python",
   "nbconvert_exporter": "python",
   "pygments_lexer": "ipython3",
   "version": "3.6.7"
  }
 },
 "nbformat": 4,
 "nbformat_minor": 2
}
