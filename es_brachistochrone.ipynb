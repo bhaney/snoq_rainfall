{
 "cells": [
  {
   "cell_type": "markdown",
   "metadata": {},
   "source": [
    "based on https://github.com/hardmaru/estool/blob/master/simple_es_example.ipynb\n",
    "\n",
    "# The Brachistochrone\n",
    "\n",
    "The Brachistochrone is a physics problem posed by Johann Bernoulli in 1696.\n",
    "\n",
    "What path gives us the shortest distance between two points? As most people know, in flat space the answer is a line. \n",
    "\n",
    "What path gives us the *shortest time* between two points? Assuming we are in a uniform gravitation field, the Brachistochrone curve is the path that minimizes the amount of time it takes to get from point A to point B. What does this Brachistochrone curve look like?\n",
    "\n",
    "To set up the problem, we assume that point $a$ is located at $(0,0)$, and that point $b$ is at point $(x_f,y_f)$ and all points on the path have $y \\leq 0$. Starting with a particle at rest at point $a$, and using conservation of energy $E = T + U$, we know that at point $a$ the total energy is 0, and at any other point $(x,y)$ on the curve, the energy is $\\frac{1}{2}mv^2 - mgy = 0$.  From this we get the following equation for the velocity of the particle:\n",
    "\n",
    "$$ v = \\sqrt{2 g y}$$\n",
    "\n",
    "$s$ is the path the particle takes, so we know $\\frac{ds}{dt} = v$. We can then rearrange the equation to get $\\frac{ds}{v} = dt$ and integrate to get\n",
    "\n",
    "$$ \\Delta t = \\int_a^b \\frac{ds}{\\sqrt{2 g y}}$$\n",
    "\n",
    "We can express our goal as trying to find the path $s$ such that $\\Delta t$ is minimum. Rearranging the variables we have\n",
    "\n",
    "$$ \\Delta t = \\int_a^b \\frac{\\sqrt{dx^2 + dy^2}}{\\sqrt{2 g y}} = \\int_0^x \\sqrt{\\frac{1+ y'(x)}{2 g y}} dx = \\int_0^x f\\{y,y';x\\} dx $$\n",
    "\n",
    "So $\\Delta t$ is a functional (its arguments are functions). We need to find the function $y$ and $y'$ that will minimize its value. Classicaly, this is a problem in the Calculus of Variations. Solving it requires plugging $f$ into the Euler-Lagrange equation and solving the resulting differential equation to find $y$.\n",
    "\n",
    "$$ \\frac{df}{dy} - \\frac{d}{dx}\\frac{df}{dy'} = 0 \\qquad \\text{Euler-Lagrange} $$\n",
    "\n",
    "Plugging in $f$ into the above equation eventually leads to the differential equation of a cycloid.\n",
    "\n",
    "$$ \\left(\\frac{dy}{dx}\\right)^2 = \\frac{2k-y}{y} $$\n",
    "\n",
    "So in other words, the shape of the Brachistochrone curve is a cycloid. Cycloids cannot be expressed in closed form, but can be expressed in parametric form. \n",
    "\n",
    "$$ x = k(\\theta-\\sin\\theta) \\qquad y = k(1-\\cos\\theta) $$\n",
    "\n",
    "k is the radius of the circle the cycloid is being drawn by. k is found by using the condition that the cycloid must pass through the point $(x_f,y_f)$. \n",
    "\n",
    "## Approximating the cycloid \n",
    "\n",
    "We can expand the cycloid function in terms of any set of basis functions we want in order to get an approximation of the function and its derivatives.\n",
    "\n",
    "### Fourier basis \n",
    "\n",
    "One possible basis is the fourier basis:\n",
    "\n",
    "$$ y(x) \\approx a_0 + \\sum_{i=1}^n a_n \\cos{\\frac{xn}{2k}} + b_n \\sin{\\frac{xn}{2k}} \\qquad y'(x) \\approx \\sum_{i=1}^n \\frac{n b_n}{2k} \\cos{\\frac{xn}{2k}} -\\frac{n a_n}{2k} \\sin{\\frac{xn}{2k}} $$\n",
    "\n",
    "And we can get the fourier coeffcients with the following equation:\n",
    "\n",
    "$$ a_n = \\frac{1}{2\\pi k} \\int_{-2\\pi k}^{2\\pi k} y(x) \\cos(\\frac{nx}{2 k}) dx \\qquad b_n = \\frac{1}{2\\pi k} \\int_{-2\\pi k}^{2\\pi k} y(x) \\sin(\\frac{nx}{2 k}) dx $$\n",
    "\n",
    "Since we can only express the cycloid parameterically, we change all the variables to $\\theta$:\n",
    "\n",
    "$$ \\text{d}x = k(1 -\\cos(\\theta)) \\text{d}\\theta \\qquad x$$\n",
    "\n",
    "$$ a_n = \\frac{k}{2\\pi} \\int_{-2\\pi}^{2\\pi}(1-\\cos{\\theta})^2 \\cos(\\frac{n}{2} (\\theta-\\sin{\\theta})) d\\theta \\qquad b_n = \\frac{k}{2\\pi} \\int_{-2\\pi}^{2\\pi}(1-\\cos{\\theta})^2 \\sin(\\frac{n}{2} (\\theta-\\sin{\\theta})) d\\theta = 0 $$ \n",
    "\n",
    "All the $b_n$ will be zero because the cycloid is an even function. We can then plug in this $y(x)$ and $y'(x)$ in our $\\Delta t$ equation to actually see what the minimal time is. Of course, to get a good approximation of the cycloid, we will need quite a few terms in the fourier expansion.\n",
    "\n",
    "### Polynomial basis (Chebyshev)\n",
    "\n",
    "Another basis is a polynominal basis defined on the interval $[-c,c]$. The Chebyshev expansion of a function can be expressed as \n",
    "\n",
    "$$ y(x) \\approx c*a_0 + \\sum_{i=1}^n c*a_i T_i(x/c) $$\n",
    "$$ T_1(x/c) = 1 \\qquad T_2(x/c) = \\frac{x}{c} \\qquad T_{n+1}(x/c) = 2\\frac{x}{c}T_n(x) - T_{n-1}(x/c)  $$\n",
    "\n",
    "Where $T_1(x)$ are the Chebyshev polynomials of the first kind. Taking the derivative of the polynomials of the first kind produces the polynomials of the second kind.\n",
    "\n",
    "$$ \\frac{\\text{d}T_n(x)}{\\text{d}x} = nU_{n-1}(x) \\qquad U_1(x) = 1 \\quad U_2(x) = 2x \\quad U_{n+1}(cx) = 2xU_n(x) - U_{n-1}(x)  $$\n",
    "\n",
    "So the derivative of $y$ will be \n",
    "\n",
    "$$ y'(x) \\approx \\sum_{i=1}^n a_n i\\,U_{i-1}(x/c) $$"
   ]
  },
  {
   "cell_type": "code",
   "execution_count": 1,
   "metadata": {},
   "outputs": [],
   "source": [
    "import numpy as np\n",
    "import sys, math\n",
    "import matplotlib.pyplot as plt\n",
    "import scipy.integrate as integrate\n",
    "import cma\n",
    "from es import SimpleGA, CMAES, PEPG, OpenES"
   ]
  },
  {
   "cell_type": "code",
   "execution_count": 2,
   "metadata": {},
   "outputs": [],
   "source": [
    "#constants\n",
    "XBEGIN = 0.0001 #don't start integration from zero-- messes up integrator\n",
    "YBEGIN = -0.0001 #don't start integration from zero-- messes up integrator\n",
    "XFINAL = 10.0\n",
    "YFINAL = -5.\n",
    "TERMS = 20 #how many terms to include in the expansion\n",
    "g = -9.8 #m/s^2\n",
    "\n",
    "# Below are the optimal parameters gotten by solving the parametric equation with Mathematica.\n",
    "# Can we do the same with ES?\n",
    "# For reference, Mathematica equation to numerically solve the parametric equation of a cycloid is:\n",
    "# FindRoot[Evaluate[{K*(t - Sin[TFINAL]) == XFINAL, K*(1 - Cos[TFINAL]) == YFINAL}], {K, 5}, {TFINAL, 3.2}, MaxIterations -> 1000]\n",
    "K = 2.585999608432 #radius of the cycloid that draws the brachistochrone curve. \n",
    "TFINAL = 3.50837   #angle of the cycloid at (XFINAL,YFINAL). "
   ]
  },
  {
   "cell_type": "code",
   "execution_count": null,
   "metadata": {},
   "outputs": [],
   "source": []
  },
  {
   "cell_type": "code",
   "execution_count": 141,
   "metadata": {},
   "outputs": [],
   "source": [
    "import scipy.special as special_funcs\n",
    "C = XFINAL\n",
    "\n",
    "def get_cheby_path_func(theta):\n",
    "    order = theta.size\n",
    "    def f(x):\n",
    "        cheby = np.array([special_funcs.eval_chebyt(i,x/C) for i in range(order)])\n",
    "        cheby = np.transpose(cheby)\n",
    "        return np.dot(cheby,C*theta)\n",
    "    return f\n",
    "\n",
    "#use chebyu for the derivative\n",
    "def get_cheby_path_func_deriv(theta): \n",
    "    theta = theta[1:]\n",
    "    order = theta.size\n",
    "    def f(x):\n",
    "        cheby = np.array([(i+1)*special_funcs.eval_chebyu(i,x/C) for i in range(order)])\n",
    "        cheby = np.transpose(cheby)\n",
    "        return np.dot(cheby,theta)\n",
    "    return f\n",
    "\n",
    "def delta_time(path, path_prime, xb=XBEGIN, xf=XFINAL):\n",
    "    #equation gotten from conservation of energy\n",
    "    #due to conservation of energy, values of f(x) > 0 are impossible.\n",
    "    #they will create a negative inside the sqrt and return an NaN\n",
    "    def functional(x):\n",
    "        p = path(x)\n",
    "        if p > 0:\n",
    "            p = -0.00000001\n",
    "        result = np.sqrt((1+path_prime(x)**2)/(2.0*g*p))\n",
    "        return result\n",
    "    time = integrate.quad(functional,xb,xf,limit=200)[0] \n",
    "    return time"
   ]
  },
  {
   "cell_type": "code",
   "execution_count": 234,
   "metadata": {},
   "outputs": [],
   "source": [
    "# What are the chebyshev coefficients for the ideal cycloid path? \n",
    "#n is the number of coefficients to approx with\n",
    "# x = k(deg-sin(deg)); y = k(1-cos(deg))\n",
    "# dx = k(1-cos(deg))d(deg)\n",
    "# limits are 1 - deg = sin(deg)\n",
    "lim = 3.50837\n",
    "\n",
    "def cheby_cycloid_coefficients(n):\n",
    "    def f(deg,i):\n",
    "        x = (K/C)*(deg-np.sin(deg))\n",
    "        y = (K/C)*(1-np.cos(deg))\n",
    "        coef = 1./(C*np.pi) if i == 0 else 2./(C*np.pi)\n",
    "        cheby = special_funcs.eval_chebyt(i,x)\n",
    "        results = (coef*cheby*(y**2))/np.sqrt(1-x**2)\n",
    "        return results\n",
    "    thetas = [integrate.quad(lambda x: f(x,j),lim,-lim,limit=200)[0] for j in range(n)]\n",
    "    return thetas"
   ]
  },
  {
   "cell_type": "code",
   "execution_count": 235,
   "metadata": {},
   "outputs": [
    {
     "name": "stdout",
     "output_type": "stream",
     "text": [
      "[-0.044442696873506306, -0.0, -0.011447188632346877, -0.0, 0.008658537392531045, -0.0, -0.0044668242738176555, -0.0, 0.002855195474102763, -0.0, -0.0020064688185464684, -0.0, 0.0014978925121412474, -0.0, -0.001173656592045836, -0.0, 0.0009110581607894403, -0.0, -0.0007810377769037651, -0.0]\n",
      "-0.1064483732330774\n",
      "-0.5039518942760242\n",
      "-0.12013772246576382\n"
     ]
    },
    {
     "name": "stderr",
     "output_type": "stream",
     "text": [
      "/usr/local/anaconda3/envs/handsonml/lib/python3.6/site-packages/ipykernel_launcher.py:14: RuntimeWarning: invalid value encountered in sqrt\n",
      "  \n"
     ]
    }
   ],
   "source": [
    "a = cheby_cycloid_coefficients(20)\n",
    "b = get_cheby_path_func(np.array(a))\n",
    "c = get_cheby_path_func_deriv(np.array(a))\n",
    "print(a)\n",
    "print(b(.0001))\n",
    "print(b(10))\n",
    "print(c(10))"
   ]
  },
  {
   "cell_type": "code",
   "execution_count": 228,
   "metadata": {},
   "outputs": [
    {
     "data": {
      "text/plain": [
       "\"stuff for fourier series implementation\\n\\ndef cycloid_coefficients(n):\\n    # n is number of sine coefficients and n+1 the number of cosine coeffcieints. \\n    # change of variables to theta is necessary since cannot write in terms of y(x).\\n    # sine terms are all 0. cosine terms are non-zero.\\n    coefs = [0]*(2*n+1)\\n    def cos_coef(c,theta):\\n        return ((1-np.cos(theta))**2)*(np.cos((c/2.)*(theta-np.sin(theta))))\\n    def sin_coef(c,theta):\\n        return ((1-np.cos(theta))**2)*(np.sin((c/2.)*(theta-np.sin(theta))))\\n    for i in range(n):\\n        coefs[2*i] = -1.0*(K/(2.*np.pi))*integrate.quad(lambda x: cos_coef(i,x),-2*np.pi,2*np.pi,limit=200)[0]\\n        coefs[2*i+1] = 0\\n    coefs[0] = coefs[0]/2.0\\n    coefs[2*n] = -1.0*(K/(2.*np.pi))*integrate.quad(lambda x: cos_coef(n,x),-2*np.pi,2*np.pi,limit=200)[0]\\n    return np.array(coefs)\\n\\ndef fourier_y(c_list):\\n    # Given a list of coefficients c_list, f(x) is the fourier expansion. \\n    # f(x) = a0 + sum(an*cos(nx) + bn*sin(nx))\\n    # even entries in c_list are the a_n, odd entries are the b_n. \\n    #c_list should always have odd len(c_list).\\n    a = c_list[::2]\\n    b = c_list[1::2]\\n    def f(x):\\n        cosines = np.array([np.cos(x*n/(2.*K)) for n in range(len(a))])\\n        sines = np.array([np.sin(x*n/(2.*K)) for n in range(1,len(b)+1)])\\n        result = (np.dot(a,cosines)+np.dot(b,sines))\\n        # the result cannot have f(x) > 0 due to conservation of energy\\n        if np.isscalar(result):\\n            return result if result < 0 else -0.00001\\n        return np.array([i if i < 0 else -0.00001 for i in result])\\n    return f\\n\\ndef fourier_yp(c_list,x):\\n    #derivative of the function f(x)\\n    #f' = sum(n*bn*cos(nx)-n*an*sin(nx))\\n    a = c_list[::2]\\n    b = c_list[1::2]\\n    cosines = np.array([(n/(2.*K))*np.cos(x*n/(2.*K)) for n in range(1,len(b)+1)])\\n    sines = np.array([-(n/(2.*K))*np.sin(x*n/(2.*K)) for n in range(1,len(a))])\\n    result = np.dot(a[1:],sines)+np.dot(b,cosines)\\n    return result\\n\""
      ]
     },
     "execution_count": 228,
     "metadata": {},
     "output_type": "execute_result"
    }
   ],
   "source": [
    "'''stuff for fourier series implementation\n",
    "\n",
    "def cycloid_coefficients(n):\n",
    "    # n is number of sine coefficients and n+1 the number of cosine coeffcieints. \n",
    "    # change of variables to theta is necessary since cannot write in terms of y(x).\n",
    "    # sine terms are all 0. cosine terms are non-zero.\n",
    "    coefs = [0]*(2*n+1)\n",
    "    def cos_coef(c,theta):\n",
    "        return ((1-np.cos(theta))**2)*(np.cos((c/2.)*(theta-np.sin(theta))))\n",
    "    def sin_coef(c,theta):\n",
    "        return ((1-np.cos(theta))**2)*(np.sin((c/2.)*(theta-np.sin(theta))))\n",
    "    for i in range(n):\n",
    "        coefs[2*i] = -1.0*(K/(2.*np.pi))*integrate.quad(lambda x: cos_coef(i,x),-2*np.pi,2*np.pi,limit=200)[0]\n",
    "        coefs[2*i+1] = 0\n",
    "    coefs[0] = coefs[0]/2.0\n",
    "    coefs[2*n] = -1.0*(K/(2.*np.pi))*integrate.quad(lambda x: cos_coef(n,x),-2*np.pi,2*np.pi,limit=200)[0]\n",
    "    return np.array(coefs)\n",
    "\n",
    "def fourier_y(c_list):\n",
    "    # Given a list of coefficients c_list, f(x) is the fourier expansion. \n",
    "    # f(x) = a0 + sum(an*cos(nx) + bn*sin(nx))\n",
    "    # even entries in c_list are the a_n, odd entries are the b_n. \n",
    "    #c_list should always have odd len(c_list).\n",
    "    a = c_list[::2]\n",
    "    b = c_list[1::2]\n",
    "    def f(x):\n",
    "        cosines = np.array([np.cos(x*n/(2.*K)) for n in range(len(a))])\n",
    "        sines = np.array([np.sin(x*n/(2.*K)) for n in range(1,len(b)+1)])\n",
    "        result = (np.dot(a,cosines)+np.dot(b,sines))\n",
    "        # the result cannot have f(x) > 0 due to conservation of energy\n",
    "        if np.isscalar(result):\n",
    "            return result if result < 0 else -0.00001\n",
    "        return np.array([i if i < 0 else -0.00001 for i in result])\n",
    "    return f\n",
    "\n",
    "def fourier_yp(c_list,x):\n",
    "    #derivative of the function f(x)\n",
    "    #f' = sum(n*bn*cos(nx)-n*an*sin(nx))\n",
    "    a = c_list[::2]\n",
    "    b = c_list[1::2]\n",
    "    cosines = np.array([(n/(2.*K))*np.cos(x*n/(2.*K)) for n in range(1,len(b)+1)])\n",
    "    sines = np.array([-(n/(2.*K))*np.sin(x*n/(2.*K)) for n in range(1,len(a))])\n",
    "    result = np.dot(a[1:],sines)+np.dot(b,cosines)\n",
    "    return result\n",
    "'''"
   ]
  },
  {
   "cell_type": "code",
   "execution_count": 229,
   "metadata": {},
   "outputs": [
    {
     "name": "stderr",
     "output_type": "stream",
     "text": [
      "/usr/local/anaconda3/envs/handsonml/lib/python3.6/site-packages/ipykernel_launcher.py:14: RuntimeWarning: invalid value encountered in sqrt\n",
      "  \n"
     ]
    },
    {
     "data": {
      "image/png": "[encoded data removed]",
      "text/plain": [
       "<matplotlib.figure.Figure at 0x119fb05c0>"
      ]
     },
     "metadata": {
      "needs_background": "light"
     },
     "output_type": "display_data"
    },
    {
     "name": "stdout",
     "output_type": "stream",
     "text": [
      "Delta t: 1.9743860485041633 s\n"
     ]
    }
   ],
   "source": [
    "%matplotlib inline\n",
    "\n",
    "xaxis = np.linspace(XBEGIN, XFINAL, 1000)\n",
    "thetas = cheby_cycloid_coefficients(TERMS)\n",
    "thetas = np.array(thetas).reshape(-1,1)\n",
    "func = get_cheby_path_func(thetas)\n",
    "deriv_func = get_cheby_path_func_deriv(thetas)\n",
    "plt.figure(figsize=(8,4), dpi=100)\n",
    "y_points, = plt.plot(xaxis, func(xaxis), color=\"red\",label='cycloid y(x)')\n",
    "yp_points, = plt.plot(xaxis, deriv_func(xaxis), color=\"darkorange\",label='cycloid dy/dx')\n",
    "plt.legend(handles=[y_points, yp_points], loc=3)\n",
    "plt.xlabel('x')\n",
    "plt.ylabel('y')\n",
    "plt.show()\n",
    "print('Delta t:',delta_time(func,deriv_func),'s')"
   ]
  },
  {
   "cell_type": "markdown",
   "metadata": {},
   "source": [
    "# Alternative functions\n",
    "\n",
    "To see how other functions compare to the optimal cycloid, we can decompose them into their fourier coeffcients and plug them into $\\Delta t$ just the same. One such example is the straight line that connects $a = (0,0)$ to $b  = (x_f,y_f)$. The coeffcients for the line are:\n",
    "\n",
    "\n",
    "$$ a_n = \\frac{1}{2\\pi k} \\int_{-2\\pi k}^{2\\pi k} \\frac{y_f}{x_f}x \\cos(\\frac{nx}{2 k}) dx = 0 \\qquad b_n = \\frac{1}{2\\pi k} \\int_{-2\\pi k}^{2\\pi k} \\frac{y_f}{x_f}x \\sin(\\frac{nx}{2 k}) dx $$\n",
    "\n",
    "All the $a_n$ will be zero because the line is an odd function. If we use few terms in the fourier expansion, the result will not look like a straight line."
   ]
  },
  {
   "cell_type": "code",
   "execution_count": 224,
   "metadata": {},
   "outputs": [],
   "source": [
    "# What are the chebyshev coefficients for a line? \n",
    "def cheby_line_coefficients(n):\n",
    "    def f(x,i):\n",
    "        u = x/C\n",
    "        y = -0.5*u\n",
    "        coef = 1./(C*np.pi) if i == 0 else 2./(C*np.pi)\n",
    "        cheby = special_funcs.eval_chebyt(i,u)\n",
    "        results = (coef*cheby*y)/np.sqrt(1-(u**2))\n",
    "        return results\n",
    "    thetas = [integrate.quad(lambda x: f(x,j),-C,C,limit=200)[0] for j in range(n)]\n",
    "    return thetas"
   ]
  },
  {
   "cell_type": "code",
   "execution_count": 225,
   "metadata": {},
   "outputs": [
    {
     "data": {
      "image/png": "[encoded data removed]",
      "text/plain": [
       "<matplotlib.figure.Figure at 0x11912e4e0>"
      ]
     },
     "metadata": {
      "needs_background": "light"
     },
     "output_type": "display_data"
    },
    {
     "name": "stdout",
     "output_type": "stream",
     "text": [
      "Delta t: 2.2516269000305043 s\n"
     ]
    }
   ],
   "source": [
    "xaxis = np.linspace(XBEGIN, XFINAL, 1000)\n",
    "thetas = cheby_line_coefficients(TERMS)\n",
    "thetas = np.array(thetas).reshape(-1,1)\n",
    "func = get_cheby_path_func(thetas)\n",
    "deriv_func = get_cheby_path_func_deriv(thetas)\n",
    "plt.figure(figsize=(8,4), dpi=100)\n",
    "y_points, = plt.plot(xaxis, func(xaxis), color=\"blue\",label='line y(x)')\n",
    "yp_points, = plt.plot(xaxis, deriv_func(xaxis), color=\"skyblue\",label='line dy/dx')\n",
    "plt.legend(handles=[y_points, yp_points], loc=3)\n",
    "plt.xlabel('x')\n",
    "plt.ylabel('y')\n",
    "plt.show()\n",
    "print('Delta t:',delta_time(func,deriv_func),'s')"
   ]
  },
  {
   "cell_type": "markdown",
   "metadata": {},
   "source": [
    "# Evolution Strategies and the Brachistochrone\n",
    "\n",
    "Rather than using the Euler-Lagrange equation to solve the problem, we can use ML to find the optimal curve. Essentially we will try to minimize the $\\Delta t$ function by crawing around in fourier space until we find the coefficients that return the minimum function.\n",
    "\n",
    "A random set of fourier coefficients will create a random curve. This curve may go above the $y=0$ line, which violates conservation of energy. A random curve will also likely not respect the boundry conditions of $a = (0,0)$ and $b  = (x_f,y_f)$. If we want to use an ML algorithm to find the brachistochrone curve, we need to create a reward function that uses the $\\Delta t$ function as a basis, and then has extra terms that heavily penalizes curves that do not follow the boundry conditions and conservation of energy. \n",
    "\n",
    "We can then use this new reward function as the fit function for the CMA-ES or OpenAI-ES algorithms. Fourier coefficients that return a lower $\\Delta t$ and respect the laws of nature will recieve a higher reward and pass on their coefficients to the next generation. \n",
    "\n",
    "For the case where we are using few fourier coefficients, the approximation of the cycloid may not be optimal, and the ES alogorithms may very well do better than our benchmark."
   ]
  },
  {
   "cell_type": "code",
   "execution_count": null,
   "metadata": {},
   "outputs": [],
   "source": [
    "def cost_function(c_list):\n",
    "    c_list = np.copy(c_list)\n",
    "    def cost(x):\n",
    "        #equation gotten from conservation of energy\n",
    "        #due to conservation of energy, values of f(x) > 0 are impossible.\n",
    "        #they will create a negative inside the sqrt and return an NaN\n",
    "        return np.sqrt((1+fourier_yp(c_list,x)**2)/(2.0*g*fourier_y(c_list,x)))\n",
    "    time = integrate.quad(cost,0.0001,XFINAL,limit=200)[0] #don't start integration from zero-- messes up integrator.\n",
    "    #we also want to constrain the path to begin at (XBEGIN,YBEGIN) and end at (XFINAL,YFINAL)\n",
    "    #i.e. F(XBEGIN;theta) - YBEGIN = 0 and F(XFINAL;theta) - YFINAL = 0\n",
    "    begin_penalty = math.fabs(fourier_y(c_list,XBEGIN)-YBEGIN)**3\n",
    "    end_penalty = math.fabs(fourier_y(c_list,XFINAL)-YFINAL)**3\n",
    "    return -1.*time-begin_penalty-end_penalty\n",
    "\n",
    "fit_func = cost_function"
   ]
  },
  {
   "cell_type": "code",
   "execution_count": null,
   "metadata": {},
   "outputs": [],
   "source": [
    "NPARAMS = (FOURIER_TERMS*2)+1 #Our parameters are all our fourier coefficients\n",
    "NPOPULATION = 50    # use population size of 50.\n",
    "MAX_ITERATION = 200 # run each solver for 300 generations."
   ]
  },
  {
   "cell_type": "code",
   "execution_count": null,
   "metadata": {
    "scrolled": true
   },
   "outputs": [],
   "source": [
    "rand_coefs = np.random.randn(NPARAMS)\n",
    "yaxis_rand = fourier_y(rand_coefs,xaxis)\n",
    "plt.figure(figsize=(8,4), dpi=100)\n",
    "rand_y, = plt.plot(xaxis, yaxis_rand, color=\"green\",label='rand y(x)')\n",
    "line_y, = plt.plot(xaxis, yaxis_line, color=\"blue\",label='line y(x)')\n",
    "optimal_y, = plt.plot(xaxis, yaxis_cycloid, color=\"red\",label='cycloid y(x)')\n",
    "plt.legend(handles=[optimal_y,line_y, rand_y], loc=3)\n",
    "plt.xlabel('x')\n",
    "plt.ylabel('y')\n",
    "plt.show()\n",
    "\n",
    "print('CYCLOID:')\n",
    "print('  fitness:',cost_function(cycloid_coefs))\n",
    "print('LINE:')\n",
    "print('  fitness:',cost_function(line_coefs))\n",
    "print('RANDOM:')\n",
    "print('  fitness:',cost_function(rand_coefs))"
   ]
  },
  {
   "cell_type": "code",
   "execution_count": null,
   "metadata": {},
   "outputs": [],
   "source": [
    "# defines a function to use solver to solve fit_func\n",
    "def test_solver(solver):\n",
    "    history = []\n",
    "    for j in range(MAX_ITERATION):\n",
    "        solutions = solver.ask()\n",
    "        fitness_list = np.zeros(solver.popsize)\n",
    "        for i in range(solver.popsize):\n",
    "            fitness_list[i] = fit_func(solutions[i])\n",
    "        solver.tell(fitness_list)\n",
    "        result = solver.result() # first element is the best solution, second element is the best fitness\n",
    "        history.append((result[0],result[1]))\n",
    "        if (j) % 2 == 0:\n",
    "            print(\"fitness at iteration\", (j), result[1])\n",
    "    print(\"fitness score at this local optimum:\", result[1])\n",
    "    return history"
   ]
  },
  {
   "cell_type": "code",
   "execution_count": null,
   "metadata": {},
   "outputs": [],
   "source": [
    "# defines CMA-ES algorithm solver\n",
    "cmaes = CMAES(NPARAMS,\n",
    "              popsize=NPOPULATION,\n",
    "              weight_decay=0.0,\n",
    "              sigma_init = 0.2\n",
    "          )"
   ]
  },
  {
   "cell_type": "code",
   "execution_count": null,
   "metadata": {},
   "outputs": [],
   "source": [
    "cma_history = test_solver(cmaes)\n"
   ]
  },
  {
   "cell_type": "code",
   "execution_count": null,
   "metadata": {
    "scrolled": true
   },
   "outputs": [],
   "source": [
    "cma_coefs = cma_history[-1][0]\n",
    "plt.figure(figsize=(16,8), dpi=150)\n",
    "for i in range(len(cma_coefs)-1):\n",
    "    yaxis_temp = fourier_y(cma_history[i][0],xaxis)\n",
    "    plt.plot(xaxis, yaxis_temp, color=(0.0, 1.0-(i/len(cma_coefs)), (i/len(cma_coefs))),alpha=0.05+0.15*(i/len(cma_coefs)))\n",
    "yaxis_cma = fourier_y(cma_coefs,xaxis)\n",
    "cycloid_y, = plt.plot(xaxis, yaxis_cycloid, color=\"red\",label='cycloid y(x)')\n",
    "cma_y, = plt.plot(xaxis, yaxis_cma, color=\"orange\",label='CMA-ES y(x)')\n",
    "plt.legend(handles=[cycloid_y,cma_y], loc=3)\n",
    "plt.show()\n",
    "\n",
    "print('CYCLOID:')\n",
    "print('  fitness:',cost_function(cycloid_coefs))\n",
    "print('CMA-ES:')\n",
    "print('  fitness:',cost_function(cma_coefs))"
   ]
  },
  {
   "cell_type": "code",
   "execution_count": null,
   "metadata": {},
   "outputs": [],
   "source": [
    "# defines OpenAI's ES algorithm solver. Note that we needed to anneal the sigma parameter\n",
    "oes = OpenES(NPARAMS,                  # number of model parameters\n",
    "            sigma_init=0.5,            # initial standard deviation\n",
    "            sigma_decay=0.999,         # don't anneal standard deviation\n",
    "            learning_rate=0.1,         # learning rate for standard deviation\n",
    "            learning_rate_decay = 1.0, # annealing the learning rate\n",
    "            popsize=NPOPULATION,       # population size\n",
    "            antithetic=False,          # whether to use antithetic sampling\n",
    "            weight_decay=0.00,         # weight decay coefficient\n",
    "            rank_fitness=False,        # use rank rather than fitness numbers\n",
    "            forget_best=False)"
   ]
  },
  {
   "cell_type": "code",
   "execution_count": null,
   "metadata": {},
   "outputs": [],
   "source": [
    "oes_history = test_solver(oes)"
   ]
  },
  {
   "cell_type": "code",
   "execution_count": null,
   "metadata": {},
   "outputs": [],
   "source": [
    "oes_coefs = oes_history[-1][0]\n",
    "plt.figure(figsize=(16,8), dpi=150)\n",
    "for i in range(len(oes_coefs)-1):\n",
    "    yaxis_temp = fourier_y(oes_history[i][0],xaxis)\n",
    "    plt.plot(xaxis, yaxis_temp, color=(0.0, 1.0-(i/len(cma_coefs)), (i/len(cma_coefs))),alpha=0.05+0.15*(i/len(cma_coefs)))\n",
    "yaxis_oes = fourier_y(oes_coefs,xaxis)\n",
    "cycloid_y, = plt.plot(xaxis, yaxis_cycloid, color=\"red\",label='cycloid y(x)')\n",
    "oes_y, = plt.plot(xaxis, yaxis_oes, color=\"orange\",label='OpenAI-ES y(x)')\n",
    "plt.legend(handles=[cycloid_y,oes_y], loc=3)\n",
    "plt.show()\n",
    "\n",
    "print('CYCLOID:')\n",
    "print('  fitness:',cost_function(cycloid_coefs))\n",
    "print('OpenAI-ES:')\n",
    "print('  fitness:',cost_function(oes_coefs))"
   ]
  },
  {
   "cell_type": "code",
   "execution_count": null,
   "metadata": {
    "scrolled": true
   },
   "outputs": [],
   "source": [
    "cycloid_fitness = [-cost_function(cycloid_coefs)] * MAX_ITERATION\n",
    "plt.figure(figsize=(16,8), dpi=150)\n",
    "\n",
    "oes_fitness = [-i[1] for i in oes_history ]\n",
    "cma_fitness = [-i[1] for i in cma_history ]\n",
    "\n",
    "cycloid_line, = plt.semilogy(cycloid_fitness, color=\"black\", linewidth=0.5, linestyle=\"-.\", label='Cycloid Fit')\n",
    "oes_line, = plt.semilogy(oes_fitness, color=\"green\", linewidth=1.0, linestyle=\"-\", label='OpenAI-ES')\n",
    "cma_line, = plt.semilogy(cma_fitness, color=\"blue\", linewidth=1.0, linestyle=\"-\", label='CMA-ES')\n",
    "\n",
    "plt.legend(handles=[cycloid_line, cma_line, oes_line], loc=1)\n",
    "\n",
    "# Set x limits\n",
    "#plt.xlim(0,2500)\n",
    "\n",
    "plt.xlabel('generation')\n",
    "plt.ylabel('-1*fitness')\n",
    "\n",
    "# plt.savefig(\"./rastrigin_10d.svg\")\n",
    "\n",
    "plt.show()"
   ]
  },
  {
   "cell_type": "code",
   "execution_count": null,
   "metadata": {},
   "outputs": [],
   "source": []
  }
 ],
 "metadata": {
  "kernelspec": {
   "display_name": "Python 3",
   "language": "python",
   "name": "python3"
  },
  "language_info": {
   "codemirror_mode": {
    "name": "ipython",
    "version": 3
   },
   "file_extension": ".py",
   "mimetype": "text/x-python",
   "name": "python",
   "nbconvert_exporter": "python",
   "pygments_lexer": "ipython3",
   "version": "3.6.7"
  },
  "toc": {
   "base_numbering": 1,
   "nav_menu": {},
   "number_sections": true,
   "sideBar": true,
   "skip_h1_title": false,
   "title_cell": "Table of Contents",
   "title_sidebar": "Contents",
   "toc_cell": false,
   "toc_position": {},
   "toc_section_display": true,
   "toc_window_display": false
  }
 },
 "nbformat": 4,
 "nbformat_minor": 2
}
